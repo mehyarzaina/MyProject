{
  "nbformat": 4,
  "nbformat_minor": 0,
  "metadata": {
    "colab": {
      "provenance": [],
      "collapsed_sections": [
        "akEq_cYbDa4T",
        "2_nzE5JLe52N",
        "0uTEhgS-AHAr",
        "J8fIJuejekDn",
        "P6vAq95hBDh_"
      ]
    },
    "kernelspec": {
      "name": "python3",
      "display_name": "Python 3"
    },
    "language_info": {
      "name": "python"
    }
  },
  "cells": [
    {
      "cell_type": "markdown",
      "source": [
        "# Handling Missing Data"
      ],
      "metadata": {
        "id": "akEq_cYbDa4T"
      }
    },
    {
      "cell_type": "code",
      "execution_count": 1,
      "metadata": {
        "colab": {
          "base_uri": "https://localhost:8080/",
          "height": 74
        },
        "id": "kFN_6QmodOkg",
        "outputId": "88ede83c-91a3-4c97-9b6b-190496eab8ec"
      },
      "outputs": [
        {
          "output_type": "display_data",
          "data": {
            "text/plain": [
              "<IPython.core.display.HTML object>"
            ],
            "text/html": [
              "\n",
              "     <input type=\"file\" id=\"files-04e641e5-e1dc-45f8-9f8b-dabbf3790b65\" name=\"files[]\" multiple disabled\n",
              "        style=\"border:none\" />\n",
              "     <output id=\"result-04e641e5-e1dc-45f8-9f8b-dabbf3790b65\">\n",
              "      Upload widget is only available when the cell has been executed in the\n",
              "      current browser session. Please rerun this cell to enable.\n",
              "      </output>\n",
              "      <script>// Copyright 2017 Google LLC\n",
              "//\n",
              "// Licensed under the Apache License, Version 2.0 (the \"License\");\n",
              "// you may not use this file except in compliance with the License.\n",
              "// You may obtain a copy of the License at\n",
              "//\n",
              "//      http://www.apache.org/licenses/LICENSE-2.0\n",
              "//\n",
              "// Unless required by applicable law or agreed to in writing, software\n",
              "// distributed under the License is distributed on an \"AS IS\" BASIS,\n",
              "// WITHOUT WARRANTIES OR CONDITIONS OF ANY KIND, either express or implied.\n",
              "// See the License for the specific language governing permissions and\n",
              "// limitations under the License.\n",
              "\n",
              "/**\n",
              " * @fileoverview Helpers for google.colab Python module.\n",
              " */\n",
              "(function(scope) {\n",
              "function span(text, styleAttributes = {}) {\n",
              "  const element = document.createElement('span');\n",
              "  element.textContent = text;\n",
              "  for (const key of Object.keys(styleAttributes)) {\n",
              "    element.style[key] = styleAttributes[key];\n",
              "  }\n",
              "  return element;\n",
              "}\n",
              "\n",
              "// Max number of bytes which will be uploaded at a time.\n",
              "const MAX_PAYLOAD_SIZE = 100 * 1024;\n",
              "\n",
              "function _uploadFiles(inputId, outputId) {\n",
              "  const steps = uploadFilesStep(inputId, outputId);\n",
              "  const outputElement = document.getElementById(outputId);\n",
              "  // Cache steps on the outputElement to make it available for the next call\n",
              "  // to uploadFilesContinue from Python.\n",
              "  outputElement.steps = steps;\n",
              "\n",
              "  return _uploadFilesContinue(outputId);\n",
              "}\n",
              "\n",
              "// This is roughly an async generator (not supported in the browser yet),\n",
              "// where there are multiple asynchronous steps and the Python side is going\n",
              "// to poll for completion of each step.\n",
              "// This uses a Promise to block the python side on completion of each step,\n",
              "// then passes the result of the previous step as the input to the next step.\n",
              "function _uploadFilesContinue(outputId) {\n",
              "  const outputElement = document.getElementById(outputId);\n",
              "  const steps = outputElement.steps;\n",
              "\n",
              "  const next = steps.next(outputElement.lastPromiseValue);\n",
              "  return Promise.resolve(next.value.promise).then((value) => {\n",
              "    // Cache the last promise value to make it available to the next\n",
              "    // step of the generator.\n",
              "    outputElement.lastPromiseValue = value;\n",
              "    return next.value.response;\n",
              "  });\n",
              "}\n",
              "\n",
              "/**\n",
              " * Generator function which is called between each async step of the upload\n",
              " * process.\n",
              " * @param {string} inputId Element ID of the input file picker element.\n",
              " * @param {string} outputId Element ID of the output display.\n",
              " * @return {!Iterable<!Object>} Iterable of next steps.\n",
              " */\n",
              "function* uploadFilesStep(inputId, outputId) {\n",
              "  const inputElement = document.getElementById(inputId);\n",
              "  inputElement.disabled = false;\n",
              "\n",
              "  const outputElement = document.getElementById(outputId);\n",
              "  outputElement.innerHTML = '';\n",
              "\n",
              "  const pickedPromise = new Promise((resolve) => {\n",
              "    inputElement.addEventListener('change', (e) => {\n",
              "      resolve(e.target.files);\n",
              "    });\n",
              "  });\n",
              "\n",
              "  const cancel = document.createElement('button');\n",
              "  inputElement.parentElement.appendChild(cancel);\n",
              "  cancel.textContent = 'Cancel upload';\n",
              "  const cancelPromise = new Promise((resolve) => {\n",
              "    cancel.onclick = () => {\n",
              "      resolve(null);\n",
              "    };\n",
              "  });\n",
              "\n",
              "  // Wait for the user to pick the files.\n",
              "  const files = yield {\n",
              "    promise: Promise.race([pickedPromise, cancelPromise]),\n",
              "    response: {\n",
              "      action: 'starting',\n",
              "    }\n",
              "  };\n",
              "\n",
              "  cancel.remove();\n",
              "\n",
              "  // Disable the input element since further picks are not allowed.\n",
              "  inputElement.disabled = true;\n",
              "\n",
              "  if (!files) {\n",
              "    return {\n",
              "      response: {\n",
              "        action: 'complete',\n",
              "      }\n",
              "    };\n",
              "  }\n",
              "\n",
              "  for (const file of files) {\n",
              "    const li = document.createElement('li');\n",
              "    li.append(span(file.name, {fontWeight: 'bold'}));\n",
              "    li.append(span(\n",
              "        `(${file.type || 'n/a'}) - ${file.size} bytes, ` +\n",
              "        `last modified: ${\n",
              "            file.lastModifiedDate ? file.lastModifiedDate.toLocaleDateString() :\n",
              "                                    'n/a'} - `));\n",
              "    const percent = span('0% done');\n",
              "    li.appendChild(percent);\n",
              "\n",
              "    outputElement.appendChild(li);\n",
              "\n",
              "    const fileDataPromise = new Promise((resolve) => {\n",
              "      const reader = new FileReader();\n",
              "      reader.onload = (e) => {\n",
              "        resolve(e.target.result);\n",
              "      };\n",
              "      reader.readAsArrayBuffer(file);\n",
              "    });\n",
              "    // Wait for the data to be ready.\n",
              "    let fileData = yield {\n",
              "      promise: fileDataPromise,\n",
              "      response: {\n",
              "        action: 'continue',\n",
              "      }\n",
              "    };\n",
              "\n",
              "    // Use a chunked sending to avoid message size limits. See b/62115660.\n",
              "    let position = 0;\n",
              "    do {\n",
              "      const length = Math.min(fileData.byteLength - position, MAX_PAYLOAD_SIZE);\n",
              "      const chunk = new Uint8Array(fileData, position, length);\n",
              "      position += length;\n",
              "\n",
              "      const base64 = btoa(String.fromCharCode.apply(null, chunk));\n",
              "      yield {\n",
              "        response: {\n",
              "          action: 'append',\n",
              "          file: file.name,\n",
              "          data: base64,\n",
              "        },\n",
              "      };\n",
              "\n",
              "      let percentDone = fileData.byteLength === 0 ?\n",
              "          100 :\n",
              "          Math.round((position / fileData.byteLength) * 100);\n",
              "      percent.textContent = `${percentDone}% done`;\n",
              "\n",
              "    } while (position < fileData.byteLength);\n",
              "  }\n",
              "\n",
              "  // All done.\n",
              "  yield {\n",
              "    response: {\n",
              "      action: 'complete',\n",
              "    }\n",
              "  };\n",
              "}\n",
              "\n",
              "scope.google = scope.google || {};\n",
              "scope.google.colab = scope.google.colab || {};\n",
              "scope.google.colab._files = {\n",
              "  _uploadFiles,\n",
              "  _uploadFilesContinue,\n",
              "};\n",
              "})(self);\n",
              "</script> "
            ]
          },
          "metadata": {}
        },
        {
          "output_type": "stream",
          "name": "stdout",
          "text": [
            "Saving WSNBFSFdataset_DSprog.csv to WSNBFSFdataset_DSprog.csv\n"
          ]
        }
      ],
      "source": [
        "import pandas as pd\n",
        "\n",
        "from google.colab import files\n",
        "uploaded = files.upload()"
      ]
    },
    {
      "cell_type": "code",
      "source": [
        "df = pd.read_csv('WSNBFSFdataset_DSprog.csv')"
      ],
      "metadata": {
        "id": "r6hdnd7qdZUE"
      },
      "execution_count": 2,
      "outputs": []
    },
    {
      "cell_type": "code",
      "source": [
        "df.info()"
      ],
      "metadata": {
        "colab": {
          "base_uri": "https://localhost:8080/"
        },
        "id": "P3R-QjAaXC0v",
        "outputId": "633b7a9d-ee86-4cf7-b98f-9b06d0ae74be"
      },
      "execution_count": 3,
      "outputs": [
        {
          "output_type": "stream",
          "name": "stdout",
          "text": [
            "<class 'pandas.core.frame.DataFrame'>\n",
            "RangeIndex: 50000 entries, 0 to 49999\n",
            "Data columns (total 19 columns):\n",
            " #   Column          Non-Null Count  Dtype  \n",
            "---  ------          --------------  -----  \n",
            " 0   Event           50000 non-null  int64  \n",
            " 1   Time            48302 non-null  float64\n",
            " 2   S_Node          50000 non-null  int64  \n",
            " 3   Node_id         50000 non-null  int64  \n",
            " 4   Rest_Energy     48290 non-null  float64\n",
            " 5   Trace_Level     46102 non-null  float64\n",
            " 6   Mac_Type_Pckt   48222 non-null  float64\n",
            " 7   Source_IP_Port  50000 non-null  float64\n",
            " 8   Des_IP_Port     49940 non-null  float64\n",
            " 9   Packet_Size     49061 non-null  float64\n",
            " 10  TTL             50000 non-null  int64  \n",
            " 11  Hop_Count       50000 non-null  int64  \n",
            " 12  Broadcast_ID    50000 non-null  int64  \n",
            " 13  Dest_Node_Num   49581 non-null  float64\n",
            " 14  Dest_Seq_Num    48765 non-null  float64\n",
            " 15  Src_Node_ID     50000 non-null  int64  \n",
            " 16  Src_Seq_Num     50000 non-null  int64  \n",
            " 17  behaviour       50000 non-null  object \n",
            " 18  Type            50000 non-null  object \n",
            "dtypes: float64(9), int64(8), object(2)\n",
            "memory usage: 7.2+ MB\n"
          ]
        }
      ]
    },
    {
      "cell_type": "code",
      "source": [
        "df.isnull().sum()"
      ],
      "metadata": {
        "colab": {
          "base_uri": "https://localhost:8080/"
        },
        "id": "zED9pDf9dhUy",
        "outputId": "5be715ba-d8c7-4e2b-986b-e6f923771dcf"
      },
      "execution_count": 4,
      "outputs": [
        {
          "output_type": "execute_result",
          "data": {
            "text/plain": [
              "Event                0\n",
              "Time              1698\n",
              "S_Node               0\n",
              "Node_id              0\n",
              "Rest_Energy       1710\n",
              "Trace_Level       3898\n",
              "Mac_Type_Pckt     1778\n",
              "Source_IP_Port       0\n",
              "Des_IP_Port         60\n",
              "Packet_Size        939\n",
              "TTL                  0\n",
              "Hop_Count            0\n",
              "Broadcast_ID         0\n",
              "Dest_Node_Num      419\n",
              "Dest_Seq_Num      1235\n",
              "Src_Node_ID          0\n",
              "Src_Seq_Num          0\n",
              "behaviour            0\n",
              "Type                 0\n",
              "dtype: int64"
            ]
          },
          "metadata": {},
          "execution_count": 4
        }
      ]
    },
    {
      "cell_type": "code",
      "source": [
        "df.isnull().sum().sum()"
      ],
      "metadata": {
        "colab": {
          "base_uri": "https://localhost:8080/"
        },
        "id": "j2rsT27Wdtcf",
        "outputId": "2f58fbd4-c3fd-4989-8e00-910ae5ce14e9"
      },
      "execution_count": 5,
      "outputs": [
        {
          "output_type": "execute_result",
          "data": {
            "text/plain": [
              "11737"
            ]
          },
          "metadata": {},
          "execution_count": 5
        }
      ]
    },
    {
      "cell_type": "code",
      "source": [
        "#interpolate\n",
        "df['Time'] = df['Time'].interpolate(method = 'linear')\n",
        "df['Rest_Energy'] = df['Rest_Energy'].interpolate(method = 'linear')"
      ],
      "metadata": {
        "id": "ZvU5acJQdwyd"
      },
      "execution_count": 6,
      "outputs": []
    },
    {
      "cell_type": "code",
      "source": [
        "#filled it with fillna because all the values in the column are 5, 1.255\n",
        "df['Trace_Level'] = df['Trace_Level'].fillna(value = 5)\n",
        "df['Des_IP_Port'] = df['Des_IP_Port'].fillna(value = 1.255)"
      ],
      "metadata": {
        "id": "05sEdb4Xkfhm"
      },
      "execution_count": 7,
      "outputs": []
    },
    {
      "cell_type": "code",
      "source": [
        "df['Dest_Seq_Num'] = df['Dest_Seq_Num'].fillna(method = 'pad')\n",
        "df['Packet_Size'] = df['Packet_Size'].fillna(method = 'bfill')"
      ],
      "metadata": {
        "id": "a98tGAyik1mr"
      },
      "execution_count": 8,
      "outputs": []
    },
    {
      "cell_type": "code",
      "source": [
        "df.loc[df['Src_Node_ID'] == 79, 'Dest_Node_Num'] = df.fillna(value = 100)\n",
        "df.loc[df['Src_Node_ID'] == 0, 'Dest_Node_Num'] = df.fillna(value = 121)\n",
        "df.loc[df['Src_Seq_Num'] == 10, 'Dest_Node_Num'] = df.fillna(value = 184)\n",
        "df.loc[df['Src_Seq_Num'] == 14, 'Dest_Node_Num'] = df.fillna(value = 196)\n",
        "df.loc[df['Src_Seq_Num'] == 8, 'Dest_Node_Num'] = df.fillna(value = 178)\n",
        "df.loc[df['Src_Seq_Num'] == 16, 'Dest_Node_Num'] = df.fillna(value = 199)\n",
        "df.loc[df['Src_Seq_Num'] == 12, 'Dest_Node_Num'] = df.fillna(value = 166)\n",
        "df.loc[df['Src_Seq_Num'] == 18, 'Dest_Node_Num'] = df.fillna(value = 130)\n",
        "df.loc[df['Src_Seq_Num'] == 20, 'Dest_Node_Num'] = df.fillna(value = 130)"
      ],
      "metadata": {
        "id": "Hb_2pUgTn1De"
      },
      "execution_count": 9,
      "outputs": []
    },
    {
      "cell_type": "code",
      "source": [
        "corr=df['Src_Seq_Num'].corr(df['Dest_Node_Num'])\n",
        "print(corr)\n"
      ],
      "metadata": {
        "colab": {
          "base_uri": "https://localhost:8080/"
        },
        "id": "FR_mS6nArnZ2",
        "outputId": "87083d87-4db1-44a8-b797-f8b54207236c"
      },
      "execution_count": 10,
      "outputs": [
        {
          "output_type": "stream",
          "name": "stdout",
          "text": [
            "0.4150822880010306\n"
          ]
        }
      ]
    },
    {
      "cell_type": "code",
      "source": [
        "corr=df['Src_Node_ID'].corr(df['Dest_Node_Num'])\n",
        "print(corr)"
      ],
      "metadata": {
        "colab": {
          "base_uri": "https://localhost:8080/"
        },
        "id": "1HXg77oMsIAy",
        "outputId": "39aceacb-b1ef-446f-c673-66724e9eec0b"
      },
      "execution_count": 11,
      "outputs": [
        {
          "output_type": "stream",
          "name": "stdout",
          "text": [
            "0.8039155106348929\n"
          ]
        }
      ]
    },
    {
      "cell_type": "code",
      "source": [
        "mode_value = df['Mac_Type_Pckt'].mode()[0]\n",
        "df['Mac_Type_Pckt'].fillna(mode_value, inplace=True)"
      ],
      "metadata": {
        "id": "k2Z8s2YaB9PH"
      },
      "execution_count": 12,
      "outputs": []
    },
    {
      "cell_type": "code",
      "source": [
        "df.dropna(subset=['Dest_Node_Num'], inplace=True) #dropped the 64 rows"
      ],
      "metadata": {
        "id": "x694fMMBFY7W"
      },
      "execution_count": 13,
      "outputs": []
    },
    {
      "cell_type": "code",
      "source": [
        "df.isnull().sum()"
      ],
      "metadata": {
        "colab": {
          "base_uri": "https://localhost:8080/"
        },
        "id": "s4HPrxnlF9xL",
        "outputId": "e3044e45-1a15-4ee2-dea7-c3311d02e1d0"
      },
      "execution_count": 14,
      "outputs": [
        {
          "output_type": "execute_result",
          "data": {
            "text/plain": [
              "Event             0\n",
              "Time              0\n",
              "S_Node            0\n",
              "Node_id           0\n",
              "Rest_Energy       0\n",
              "Trace_Level       0\n",
              "Mac_Type_Pckt     0\n",
              "Source_IP_Port    0\n",
              "Des_IP_Port       0\n",
              "Packet_Size       0\n",
              "TTL               0\n",
              "Hop_Count         0\n",
              "Broadcast_ID      0\n",
              "Dest_Node_Num     0\n",
              "Dest_Seq_Num      0\n",
              "Src_Node_ID       0\n",
              "Src_Seq_Num       0\n",
              "behaviour         0\n",
              "Type              0\n",
              "dtype: int64"
            ]
          },
          "metadata": {},
          "execution_count": 14
        }
      ]
    },
    {
      "cell_type": "code",
      "source": [
        "#to check duplicate rows\n",
        "df.duplicated().sum()"
      ],
      "metadata": {
        "colab": {
          "base_uri": "https://localhost:8080/"
        },
        "id": "q9lOWSdLIyYi",
        "outputId": "65e27a4f-7b58-46af-d031-f9cbd477d48f"
      },
      "execution_count": 15,
      "outputs": [
        {
          "output_type": "execute_result",
          "data": {
            "text/plain": [
              "0"
            ]
          },
          "metadata": {},
          "execution_count": 15
        }
      ]
    },
    {
      "cell_type": "code",
      "source": [
        "df.drop_duplicates(inplace=True)"
      ],
      "metadata": {
        "id": "QruC478XGWyY"
      },
      "execution_count": 16,
      "outputs": []
    },
    {
      "cell_type": "markdown",
      "source": [
        "# Preparing Data"
      ],
      "metadata": {
        "id": "2_nzE5JLe52N"
      }
    },
    {
      "cell_type": "code",
      "source": [
        "#df.info() function in Python is used to display a concise summary of a DataFrame's structure and content.\n",
        "#It provides information about the column names, data types, non-null values, and memory usage of the DataFrame.\n",
        "df.info()"
      ],
      "metadata": {
        "colab": {
          "base_uri": "https://localhost:8080/"
        },
        "id": "KGxSHCDcVyjK",
        "outputId": "80df9bd3-d04a-4a7a-95b7-215f5bad27d8"
      },
      "execution_count": 17,
      "outputs": [
        {
          "output_type": "stream",
          "name": "stdout",
          "text": [
            "<class 'pandas.core.frame.DataFrame'>\n",
            "Int64Index: 49936 entries, 0 to 49974\n",
            "Data columns (total 19 columns):\n",
            " #   Column          Non-Null Count  Dtype  \n",
            "---  ------          --------------  -----  \n",
            " 0   Event           49936 non-null  int64  \n",
            " 1   Time            49936 non-null  float64\n",
            " 2   S_Node          49936 non-null  int64  \n",
            " 3   Node_id         49936 non-null  int64  \n",
            " 4   Rest_Energy     49936 non-null  float64\n",
            " 5   Trace_Level     49936 non-null  float64\n",
            " 6   Mac_Type_Pckt   49936 non-null  float64\n",
            " 7   Source_IP_Port  49936 non-null  float64\n",
            " 8   Des_IP_Port     49936 non-null  float64\n",
            " 9   Packet_Size     49936 non-null  float64\n",
            " 10  TTL             49936 non-null  int64  \n",
            " 11  Hop_Count       49936 non-null  int64  \n",
            " 12  Broadcast_ID    49936 non-null  int64  \n",
            " 13  Dest_Node_Num   49936 non-null  float64\n",
            " 14  Dest_Seq_Num    49936 non-null  float64\n",
            " 15  Src_Node_ID     49936 non-null  int64  \n",
            " 16  Src_Seq_Num     49936 non-null  int64  \n",
            " 17  behaviour       49936 non-null  object \n",
            " 18  Type            49936 non-null  object \n",
            "dtypes: float64(9), int64(8), object(2)\n",
            "memory usage: 7.6+ MB\n"
          ]
        }
      ]
    },
    {
      "cell_type": "code",
      "source": [
        "#This will select columns with data type 'object', which often represents categorical variables.\n",
        "#The .columns attribute retrieves the names of the selected columns.\n",
        "df2 = df\n",
        "cat_columns = df2.select_dtypes(['object']).columns\n",
        "\n",
        "from sklearn.preprocessing import LabelEncoder\n",
        "label_encoder = LabelEncoder() # transform categorical values into numerical labels.\n",
        "df2[cat_columns] = df2[cat_columns].apply(label_encoder.fit_transform)\n",
        "df2.head()"
      ],
      "metadata": {
        "colab": {
          "base_uri": "https://localhost:8080/",
          "height": 226
        },
        "id": "7FkHgjGvWZns",
        "outputId": "5681f222-3aa0-4683-eb7c-080fa82f33a7"
      },
      "execution_count": 18,
      "outputs": [
        {
          "output_type": "execute_result",
          "data": {
            "text/plain": [
              "   Event      Time  S_Node  Node_id  Rest_Energy  Trace_Level  Mac_Type_Pckt  \\\n",
              "0      1  0.100000      79       79   600.000000          5.0            0.0   \n",
              "1      2  0.100963      78       78   599.979723          5.0          800.0   \n",
              "2      2  0.100963      76       76   599.979722          5.0          800.0   \n",
              "3      2  0.100964      75       75   599.979722          5.0          800.0   \n",
              "4      2  0.100964     118      118   599.979722          5.0          800.0   \n",
              "\n",
              "   Source_IP_Port  Des_IP_Port  Packet_Size  TTL  Hop_Count  Broadcast_ID  \\\n",
              "0          79.255        1.255         48.0   30          1             1   \n",
              "1          79.255        1.255         48.0   30          1             1   \n",
              "2          79.255        1.255         48.0   30          1             1   \n",
              "3          79.255        1.255         48.0   30          1             1   \n",
              "4          79.255        1.255         48.0   30          1             1   \n",
              "\n",
              "   Dest_Node_Num  Dest_Seq_Num  Src_Node_ID  Src_Seq_Num  behaviour  Type  \n",
              "0          100.0           0.0           79            4          0     3  \n",
              "1          100.0           0.0           79            4          0     3  \n",
              "2          100.0           0.0           79            4          0     3  \n",
              "3          100.0           0.0           79            4          0     3  \n",
              "4          100.0           0.0           79            4          0     3  "
            ],
            "text/html": [
              "\n",
              "  <div id=\"df-9bcaa2e9-3e12-4d9f-afd4-455c3e0dad25\" class=\"colab-df-container\">\n",
              "    <div>\n",
              "<style scoped>\n",
              "    .dataframe tbody tr th:only-of-type {\n",
              "        vertical-align: middle;\n",
              "    }\n",
              "\n",
              "    .dataframe tbody tr th {\n",
              "        vertical-align: top;\n",
              "    }\n",
              "\n",
              "    .dataframe thead th {\n",
              "        text-align: right;\n",
              "    }\n",
              "</style>\n",
              "<table border=\"1\" class=\"dataframe\">\n",
              "  <thead>\n",
              "    <tr style=\"text-align: right;\">\n",
              "      <th></th>\n",
              "      <th>Event</th>\n",
              "      <th>Time</th>\n",
              "      <th>S_Node</th>\n",
              "      <th>Node_id</th>\n",
              "      <th>Rest_Energy</th>\n",
              "      <th>Trace_Level</th>\n",
              "      <th>Mac_Type_Pckt</th>\n",
              "      <th>Source_IP_Port</th>\n",
              "      <th>Des_IP_Port</th>\n",
              "      <th>Packet_Size</th>\n",
              "      <th>TTL</th>\n",
              "      <th>Hop_Count</th>\n",
              "      <th>Broadcast_ID</th>\n",
              "      <th>Dest_Node_Num</th>\n",
              "      <th>Dest_Seq_Num</th>\n",
              "      <th>Src_Node_ID</th>\n",
              "      <th>Src_Seq_Num</th>\n",
              "      <th>behaviour</th>\n",
              "      <th>Type</th>\n",
              "    </tr>\n",
              "  </thead>\n",
              "  <tbody>\n",
              "    <tr>\n",
              "      <th>0</th>\n",
              "      <td>1</td>\n",
              "      <td>0.100000</td>\n",
              "      <td>79</td>\n",
              "      <td>79</td>\n",
              "      <td>600.000000</td>\n",
              "      <td>5.0</td>\n",
              "      <td>0.0</td>\n",
              "      <td>79.255</td>\n",
              "      <td>1.255</td>\n",
              "      <td>48.0</td>\n",
              "      <td>30</td>\n",
              "      <td>1</td>\n",
              "      <td>1</td>\n",
              "      <td>100.0</td>\n",
              "      <td>0.0</td>\n",
              "      <td>79</td>\n",
              "      <td>4</td>\n",
              "      <td>0</td>\n",
              "      <td>3</td>\n",
              "    </tr>\n",
              "    <tr>\n",
              "      <th>1</th>\n",
              "      <td>2</td>\n",
              "      <td>0.100963</td>\n",
              "      <td>78</td>\n",
              "      <td>78</td>\n",
              "      <td>599.979723</td>\n",
              "      <td>5.0</td>\n",
              "      <td>800.0</td>\n",
              "      <td>79.255</td>\n",
              "      <td>1.255</td>\n",
              "      <td>48.0</td>\n",
              "      <td>30</td>\n",
              "      <td>1</td>\n",
              "      <td>1</td>\n",
              "      <td>100.0</td>\n",
              "      <td>0.0</td>\n",
              "      <td>79</td>\n",
              "      <td>4</td>\n",
              "      <td>0</td>\n",
              "      <td>3</td>\n",
              "    </tr>\n",
              "    <tr>\n",
              "      <th>2</th>\n",
              "      <td>2</td>\n",
              "      <td>0.100963</td>\n",
              "      <td>76</td>\n",
              "      <td>76</td>\n",
              "      <td>599.979722</td>\n",
              "      <td>5.0</td>\n",
              "      <td>800.0</td>\n",
              "      <td>79.255</td>\n",
              "      <td>1.255</td>\n",
              "      <td>48.0</td>\n",
              "      <td>30</td>\n",
              "      <td>1</td>\n",
              "      <td>1</td>\n",
              "      <td>100.0</td>\n",
              "      <td>0.0</td>\n",
              "      <td>79</td>\n",
              "      <td>4</td>\n",
              "      <td>0</td>\n",
              "      <td>3</td>\n",
              "    </tr>\n",
              "    <tr>\n",
              "      <th>3</th>\n",
              "      <td>2</td>\n",
              "      <td>0.100964</td>\n",
              "      <td>75</td>\n",
              "      <td>75</td>\n",
              "      <td>599.979722</td>\n",
              "      <td>5.0</td>\n",
              "      <td>800.0</td>\n",
              "      <td>79.255</td>\n",
              "      <td>1.255</td>\n",
              "      <td>48.0</td>\n",
              "      <td>30</td>\n",
              "      <td>1</td>\n",
              "      <td>1</td>\n",
              "      <td>100.0</td>\n",
              "      <td>0.0</td>\n",
              "      <td>79</td>\n",
              "      <td>4</td>\n",
              "      <td>0</td>\n",
              "      <td>3</td>\n",
              "    </tr>\n",
              "    <tr>\n",
              "      <th>4</th>\n",
              "      <td>2</td>\n",
              "      <td>0.100964</td>\n",
              "      <td>118</td>\n",
              "      <td>118</td>\n",
              "      <td>599.979722</td>\n",
              "      <td>5.0</td>\n",
              "      <td>800.0</td>\n",
              "      <td>79.255</td>\n",
              "      <td>1.255</td>\n",
              "      <td>48.0</td>\n",
              "      <td>30</td>\n",
              "      <td>1</td>\n",
              "      <td>1</td>\n",
              "      <td>100.0</td>\n",
              "      <td>0.0</td>\n",
              "      <td>79</td>\n",
              "      <td>4</td>\n",
              "      <td>0</td>\n",
              "      <td>3</td>\n",
              "    </tr>\n",
              "  </tbody>\n",
              "</table>\n",
              "</div>\n",
              "    <div class=\"colab-df-buttons\">\n",
              "\n",
              "  <div class=\"colab-df-container\">\n",
              "    <button class=\"colab-df-convert\" onclick=\"convertToInteractive('df-9bcaa2e9-3e12-4d9f-afd4-455c3e0dad25')\"\n",
              "            title=\"Convert this dataframe to an interactive table.\"\n",
              "            style=\"display:none;\">\n",
              "\n",
              "  <svg xmlns=\"http://www.w3.org/2000/svg\" height=\"24px\" viewBox=\"0 -960 960 960\">\n",
              "    <path d=\"M120-120v-720h720v720H120Zm60-500h600v-160H180v160Zm220 220h160v-160H400v160Zm0 220h160v-160H400v160ZM180-400h160v-160H180v160Zm440 0h160v-160H620v160ZM180-180h160v-160H180v160Zm440 0h160v-160H620v160Z\"/>\n",
              "  </svg>\n",
              "    </button>\n",
              "\n",
              "  <style>\n",
              "    .colab-df-container {\n",
              "      display:flex;\n",
              "      gap: 12px;\n",
              "    }\n",
              "\n",
              "    .colab-df-convert {\n",
              "      background-color: #E8F0FE;\n",
              "      border: none;\n",
              "      border-radius: 50%;\n",
              "      cursor: pointer;\n",
              "      display: none;\n",
              "      fill: #1967D2;\n",
              "      height: 32px;\n",
              "      padding: 0 0 0 0;\n",
              "      width: 32px;\n",
              "    }\n",
              "\n",
              "    .colab-df-convert:hover {\n",
              "      background-color: #E2EBFA;\n",
              "      box-shadow: 0px 1px 2px rgba(60, 64, 67, 0.3), 0px 1px 3px 1px rgba(60, 64, 67, 0.15);\n",
              "      fill: #174EA6;\n",
              "    }\n",
              "\n",
              "    .colab-df-buttons div {\n",
              "      margin-bottom: 4px;\n",
              "    }\n",
              "\n",
              "    [theme=dark] .colab-df-convert {\n",
              "      background-color: #3B4455;\n",
              "      fill: #D2E3FC;\n",
              "    }\n",
              "\n",
              "    [theme=dark] .colab-df-convert:hover {\n",
              "      background-color: #434B5C;\n",
              "      box-shadow: 0px 1px 3px 1px rgba(0, 0, 0, 0.15);\n",
              "      filter: drop-shadow(0px 1px 2px rgba(0, 0, 0, 0.3));\n",
              "      fill: #FFFFFF;\n",
              "    }\n",
              "  </style>\n",
              "\n",
              "    <script>\n",
              "      const buttonEl =\n",
              "        document.querySelector('#df-9bcaa2e9-3e12-4d9f-afd4-455c3e0dad25 button.colab-df-convert');\n",
              "      buttonEl.style.display =\n",
              "        google.colab.kernel.accessAllowed ? 'block' : 'none';\n",
              "\n",
              "      async function convertToInteractive(key) {\n",
              "        const element = document.querySelector('#df-9bcaa2e9-3e12-4d9f-afd4-455c3e0dad25');\n",
              "        const dataTable =\n",
              "          await google.colab.kernel.invokeFunction('convertToInteractive',\n",
              "                                                    [key], {});\n",
              "        if (!dataTable) return;\n",
              "\n",
              "        const docLinkHtml = 'Like what you see? Visit the ' +\n",
              "          '<a target=\"_blank\" href=https://colab.research.google.com/notebooks/data_table.ipynb>data table notebook</a>'\n",
              "          + ' to learn more about interactive tables.';\n",
              "        element.innerHTML = '';\n",
              "        dataTable['output_type'] = 'display_data';\n",
              "        await google.colab.output.renderOutput(dataTable, element);\n",
              "        const docLink = document.createElement('div');\n",
              "        docLink.innerHTML = docLinkHtml;\n",
              "        element.appendChild(docLink);\n",
              "      }\n",
              "    </script>\n",
              "  </div>\n",
              "\n",
              "\n",
              "<div id=\"df-4911257e-47cb-48d6-a192-4fcbfdf64c3a\">\n",
              "  <button class=\"colab-df-quickchart\" onclick=\"quickchart('df-4911257e-47cb-48d6-a192-4fcbfdf64c3a')\"\n",
              "            title=\"Suggest charts.\"\n",
              "            style=\"display:none;\">\n",
              "\n",
              "<svg xmlns=\"http://www.w3.org/2000/svg\" height=\"24px\"viewBox=\"0 0 24 24\"\n",
              "     width=\"24px\">\n",
              "    <g>\n",
              "        <path d=\"M19 3H5c-1.1 0-2 .9-2 2v14c0 1.1.9 2 2 2h14c1.1 0 2-.9 2-2V5c0-1.1-.9-2-2-2zM9 17H7v-7h2v7zm4 0h-2V7h2v10zm4 0h-2v-4h2v4z\"/>\n",
              "    </g>\n",
              "</svg>\n",
              "  </button>\n",
              "\n",
              "<style>\n",
              "  .colab-df-quickchart {\n",
              "      --bg-color: #E8F0FE;\n",
              "      --fill-color: #1967D2;\n",
              "      --hover-bg-color: #E2EBFA;\n",
              "      --hover-fill-color: #174EA6;\n",
              "      --disabled-fill-color: #AAA;\n",
              "      --disabled-bg-color: #DDD;\n",
              "  }\n",
              "\n",
              "  [theme=dark] .colab-df-quickchart {\n",
              "      --bg-color: #3B4455;\n",
              "      --fill-color: #D2E3FC;\n",
              "      --hover-bg-color: #434B5C;\n",
              "      --hover-fill-color: #FFFFFF;\n",
              "      --disabled-bg-color: #3B4455;\n",
              "      --disabled-fill-color: #666;\n",
              "  }\n",
              "\n",
              "  .colab-df-quickchart {\n",
              "    background-color: var(--bg-color);\n",
              "    border: none;\n",
              "    border-radius: 50%;\n",
              "    cursor: pointer;\n",
              "    display: none;\n",
              "    fill: var(--fill-color);\n",
              "    height: 32px;\n",
              "    padding: 0;\n",
              "    width: 32px;\n",
              "  }\n",
              "\n",
              "  .colab-df-quickchart:hover {\n",
              "    background-color: var(--hover-bg-color);\n",
              "    box-shadow: 0 1px 2px rgba(60, 64, 67, 0.3), 0 1px 3px 1px rgba(60, 64, 67, 0.15);\n",
              "    fill: var(--button-hover-fill-color);\n",
              "  }\n",
              "\n",
              "  .colab-df-quickchart-complete:disabled,\n",
              "  .colab-df-quickchart-complete:disabled:hover {\n",
              "    background-color: var(--disabled-bg-color);\n",
              "    fill: var(--disabled-fill-color);\n",
              "    box-shadow: none;\n",
              "  }\n",
              "\n",
              "  .colab-df-spinner {\n",
              "    border: 2px solid var(--fill-color);\n",
              "    border-color: transparent;\n",
              "    border-bottom-color: var(--fill-color);\n",
              "    animation:\n",
              "      spin 1s steps(1) infinite;\n",
              "  }\n",
              "\n",
              "  @keyframes spin {\n",
              "    0% {\n",
              "      border-color: transparent;\n",
              "      border-bottom-color: var(--fill-color);\n",
              "      border-left-color: var(--fill-color);\n",
              "    }\n",
              "    20% {\n",
              "      border-color: transparent;\n",
              "      border-left-color: var(--fill-color);\n",
              "      border-top-color: var(--fill-color);\n",
              "    }\n",
              "    30% {\n",
              "      border-color: transparent;\n",
              "      border-left-color: var(--fill-color);\n",
              "      border-top-color: var(--fill-color);\n",
              "      border-right-color: var(--fill-color);\n",
              "    }\n",
              "    40% {\n",
              "      border-color: transparent;\n",
              "      border-right-color: var(--fill-color);\n",
              "      border-top-color: var(--fill-color);\n",
              "    }\n",
              "    60% {\n",
              "      border-color: transparent;\n",
              "      border-right-color: var(--fill-color);\n",
              "    }\n",
              "    80% {\n",
              "      border-color: transparent;\n",
              "      border-right-color: var(--fill-color);\n",
              "      border-bottom-color: var(--fill-color);\n",
              "    }\n",
              "    90% {\n",
              "      border-color: transparent;\n",
              "      border-bottom-color: var(--fill-color);\n",
              "    }\n",
              "  }\n",
              "</style>\n",
              "\n",
              "  <script>\n",
              "    async function quickchart(key) {\n",
              "      const quickchartButtonEl =\n",
              "        document.querySelector('#' + key + ' button');\n",
              "      quickchartButtonEl.disabled = true;  // To prevent multiple clicks.\n",
              "      quickchartButtonEl.classList.add('colab-df-spinner');\n",
              "      try {\n",
              "        const charts = await google.colab.kernel.invokeFunction(\n",
              "            'suggestCharts', [key], {});\n",
              "      } catch (error) {\n",
              "        console.error('Error during call to suggestCharts:', error);\n",
              "      }\n",
              "      quickchartButtonEl.classList.remove('colab-df-spinner');\n",
              "      quickchartButtonEl.classList.add('colab-df-quickchart-complete');\n",
              "    }\n",
              "    (() => {\n",
              "      let quickchartButtonEl =\n",
              "        document.querySelector('#df-4911257e-47cb-48d6-a192-4fcbfdf64c3a button');\n",
              "      quickchartButtonEl.style.display =\n",
              "        google.colab.kernel.accessAllowed ? 'block' : 'none';\n",
              "    })();\n",
              "  </script>\n",
              "</div>\n",
              "    </div>\n",
              "  </div>\n"
            ]
          },
          "metadata": {},
          "execution_count": 18
        }
      ]
    },
    {
      "cell_type": "code",
      "source": [
        "X = df2.drop([\"Type\"], axis=1)\n",
        "y = df2[\"Type\"]"
      ],
      "metadata": {
        "id": "v_t6uQMUWnuO"
      },
      "execution_count": 19,
      "outputs": []
    },
    {
      "cell_type": "code",
      "source": [
        "from sklearn.model_selection import train_test_split # split your dataset into training and testing subsets\n",
        "\n",
        "#y_test, which will be used for evaluation\n",
        "#y_train, These are the values you're trying to predict.\n",
        "X_train, X_test, y_train, y_test = train_test_split(X, y, test_size=0.2,random_state=0)\n",
        "\n",
        "#the random_state parameter is used to ensure that the same data split is obtained every time you run your code.\n",
        "\n"
      ],
      "metadata": {
        "id": "ZuiQ-nWvagmO"
      },
      "execution_count": 20,
      "outputs": []
    },
    {
      "cell_type": "code",
      "source": [
        "report = pd.DataFrame(index=[\"accuracy_score\",\"recall_score\",\"precision_score\",\"f1_score\"],columns=[\"KNN\",\"DT\",\"NB\"])\n"
      ],
      "metadata": {
        "id": "KLtDpHuKAUMp"
      },
      "execution_count": 47,
      "outputs": []
    },
    {
      "cell_type": "markdown",
      "source": [
        "# KNN"
      ],
      "metadata": {
        "id": "0uTEhgS-AHAr"
      }
    },
    {
      "cell_type": "code",
      "source": [
        "from sklearn.neighbors import KNeighborsClassifier\n",
        "\n",
        "# K value set to be 3\n",
        "classifer = KNeighborsClassifier(n_neighbors=5 )\n",
        "#parameter is set to 5, which means the algorithm will consider the 5 nearest neighbors when making predictions.\n",
        "\n",
        "# model training\n",
        "classifer.fit(X_train,y_train)\n",
        "# Train the KNN classifier using the training data X_train (features) and y_train (target labels).\n",
        "#The algorithm learns the relationships between the features and their corresponding labels.\n",
        "\n",
        "# testing the model\n",
        "y_pred= classifer.predict(X_test)"
      ],
      "metadata": {
        "id": "gWGr-6BkcCxA"
      },
      "execution_count": 54,
      "outputs": []
    },
    {
      "cell_type": "code",
      "source": [
        "df3 = pd.DataFrame({'Actual':y_test, 'Predicted':y_pred})\n"
      ],
      "metadata": {
        "id": "1MxBOe-Pdf-q"
      },
      "execution_count": 55,
      "outputs": []
    },
    {
      "cell_type": "code",
      "source": [
        "# importing accuracy_score\n",
        "from sklearn.metrics import accuracy_score,precision_score, recall_score, f1_score\n",
        "\n",
        "\n",
        "# printing accuracy\n",
        "print(\"Accuracy: \",accuracy_score(y_test,y_pred))\n",
        "# printing precision\n",
        "print(\"Precision: \",precision_score(y_test,y_pred, average = 'macro'))\n",
        "# printing recall\n",
        "print(\"Recall: \",recall_score(y_test,y_pred, average = 'macro'))\n",
        "# printing f1 score\n",
        "print(\"F1_score: \",f1_score(y_test,y_pred, average = 'macro'))"
      ],
      "metadata": {
        "colab": {
          "base_uri": "https://localhost:8080/"
        },
        "id": "2pjPHtJad7Yv",
        "outputId": "0444862b-74cf-409a-d692-b0820895c80e"
      },
      "execution_count": 56,
      "outputs": [
        {
          "output_type": "stream",
          "name": "stdout",
          "text": [
            "Accuracy:  0.957096911220341\n",
            "Precision:  0.8393564199749785\n",
            "Recall:  0.7763269224596796\n",
            "F1_score:  0.8030893777801396\n"
          ]
        }
      ]
    },
    {
      "cell_type": "code",
      "source": [
        "from sklearn.metrics import confusion_matrix\n",
        "print(confusion_matrix(y_test, y_pred))"
      ],
      "metadata": {
        "colab": {
          "base_uri": "https://localhost:8080/"
        },
        "id": "9pZ6bD8WVokl",
        "outputId": "21780f36-4ed5-4ea7-b125-403364fddd53"
      },
      "execution_count": 57,
      "outputs": [
        {
          "output_type": "stream",
          "name": "stdout",
          "text": [
            "[[  307    33     0   298]\n",
            " [   24  1943    16     0]\n",
            " [    0    19   263   117]\n",
            " [  121     0    79 13259]]\n"
          ]
        }
      ]
    },
    {
      "cell_type": "code",
      "source": [
        "knn_acc = []\n",
        "knn_pre = []\n",
        "knn_rec = []\n",
        "knn_f1 = []\n",
        "\n",
        "for i in range(10):\n",
        "  X_train, X_test, y_train, y_test = train_test_split(X, y, test_size = 0.33, random_state = i)\n",
        "# Performing training\n",
        "  classifer.fit(X_train, y_train)\n",
        "\n",
        "#Calculate predictions (y_pred) using X_test\n",
        "  y_pred = classifer.predict(X_test)\n",
        "\n",
        "# Display evaluation report\n",
        "  acc = accuracy_score(y_test,y_pred)\n",
        "  knn_acc.append(acc)\n",
        "  rec = recall_score(y_test,y_pred, average = 'macro')\n",
        "  knn_rec.append(rec)\n",
        "  pre =  precision_score(y_test,y_pred, average = 'macro')\n",
        "  knn_pre.append(pre)\n",
        "  f1 = f1_score(y_test,y_pred, average = 'macro')\n",
        "  knn_f1.append(f1)\n",
        "\n",
        "\n",
        "\n",
        "\n",
        "avg_acc = sum(knn_acc) / 10\n",
        "avg_rec = sum(knn_rec) / 10\n",
        "avg_pre = sum(knn_pre) / 10\n",
        "avg_f1 = sum(knn_f1) / 10\n",
        "\n",
        "print('Average Accuracy:', avg_acc)\n",
        "print('Average Recall:', avg_rec)\n",
        "print('Average Precision:', avg_pre)\n",
        "print('Average F1-Score:', avg_f1)\n",
        "report['KNN'] = [avg_acc, avg_rec, avg_pre, avg_f1]"
      ],
      "metadata": {
        "colab": {
          "base_uri": "https://localhost:8080/"
        },
        "id": "it3oEw_5eaA1",
        "outputId": "50f5cf17-6d0b-40ca-ae83-8117a31b59dc"
      },
      "execution_count": 60,
      "outputs": [
        {
          "output_type": "stream",
          "name": "stdout",
          "text": [
            "Average Accuracy: 0.9568905880211178\n",
            "Average Recall: 0.7732511383973837\n",
            "Average Precision: 0.8402896727427706\n",
            "Average F1-Score: 0.8012500056327942\n"
          ]
        }
      ]
    },
    {
      "cell_type": "code",
      "source": [
        "import matplotlib.pyplot as plt\n",
        "\n",
        "data = [knn_acc, knn_pre, knn_rec, knn_f1]\n",
        "\n",
        "plt.boxplot(data,labels = ['Accuracy_KNN','Recall_KNN','Precision_KNN','F1-measure'])\n",
        "plt.show()"
      ],
      "metadata": {
        "colab": {
          "base_uri": "https://localhost:8080/",
          "height": 430
        },
        "id": "wBPrZGr5f4uk",
        "outputId": "ec98cdbb-6150-4d19-a9db-cdfd226bfd10"
      },
      "execution_count": 61,
      "outputs": [
        {
          "output_type": "display_data",
          "data": {
            "text/plain": [
              "<Figure size 640x480 with 1 Axes>"
            ],
            "image/png": "[encoded data removed]"
          },
          "metadata": {}
        }
      ]
    },
    {
      "cell_type": "markdown",
      "source": [
        "# Decision Tree Classifier"
      ],
      "metadata": {
        "id": "SVK_F1R-f5Jn"
      }
    },
    {
      "cell_type": "code",
      "source": [
        "from sklearn.tree import DecisionTreeClassifier\n",
        "\n",
        "# Create Decision Tree classifer object\n",
        "classifer2 = DecisionTreeClassifier(random_state = 100)\n",
        "\n",
        "# Train Decision Tree Classifer\n",
        "classifer2 = classifer2.fit(X_train,y_train)\n",
        "\n",
        "#Predict the response for test dataset\n",
        "y_pred = classifer2.predict(X_test)\n",
        "\n",
        "df3 = pd.DataFrame({'Actual':y_test, 'Predicted':y_pred})\n",
        "df3.to_csv('out.csv')\n",
        "\n",
        "# printing accuracy\n",
        "print(\"Accuracy: \",accuracy_score(y_test,y_pred))\n",
        "# printing precision\n",
        "print(\"Precision: \",precision_score(y_test,y_pred, average = 'macro'))\n",
        "# printing recall\n",
        "print(\"Recall: \",recall_score(y_test,y_pred, average = 'macro'))\n",
        "# printing f1 score\n",
        "print(\"F1_score: \",f1_score(y_test,y_pred, average = 'macro'))"
      ],
      "metadata": {
        "colab": {
          "base_uri": "https://localhost:8080/"
        },
        "id": "dNkDHwH-K_mR",
        "outputId": "7eff1609-3aef-476b-ecd3-e371acc3107f"
      },
      "execution_count": 28,
      "outputs": [
        {
          "output_type": "stream",
          "name": "stdout",
          "text": [
            "Accuracy:  0.9995145336488864\n",
            "Precision:  0.9977231498243639\n",
            "Recall:  0.9963957699892364\n",
            "F1_score:  0.9970552163897862\n"
          ]
        }
      ]
    },
    {
      "cell_type": "code",
      "source": [
        "clf_acc = []\n",
        "clf_pre = []\n",
        "clf_rec = []\n",
        "clf_f1 = []\n",
        "\n",
        "for i in range(10):\n",
        "  X_train, X_test, y_train, y_test = train_test_split(X, y, test_size = 0.33, random_state = i)\n",
        "\n",
        "  classifer2.fit(X_train, y_train)\n",
        "\n",
        "  y_pred = classifer2.predict(X_test)\n",
        "\n",
        "  acc = accuracy_score(y_test,y_pred)\n",
        "  clf_acc.append(acc)\n",
        "  rec = recall_score(y_test,y_pred, average = 'macro')\n",
        "  clf_rec.append(rec)\n",
        "  pre =  precision_score(y_test,y_pred, average = 'macro')\n",
        "  clf_pre.append(pre)\n",
        "  f1 = f1_score(y_test,y_pred, average = 'macro')\n",
        "  clf_f1.append(f1)\n",
        "\n",
        "\n",
        "\n",
        "avg_acc = sum(clf_acc) / 10\n",
        "avg_rec = sum(clf_rec) / 10\n",
        "avg_pre = sum(clf_pre) / 10\n",
        "avg_f1 = sum(clf_f1) / 10\n",
        "\n",
        "print('Average Accuracy:', avg_acc)\n",
        "print('Average Recall:', avg_rec)\n",
        "print('Average Precision:', avg_pre)\n",
        "print('Average F1-Score:', avg_f1)\n",
        "report['DT'] = [avg_acc, avg_rec, avg_pre, avg_f1]"
      ],
      "metadata": {
        "id": "VLGttDfxejlw",
        "colab": {
          "base_uri": "https://localhost:8080/"
        },
        "outputId": "706badae-831f-4946-c801-c5c71466d2c1"
      },
      "execution_count": 29,
      "outputs": [
        {
          "output_type": "stream",
          "name": "stdout",
          "text": [
            "Average Accuracy: 0.999617695248498\n",
            "Average Recall: 0.9978365591506527\n",
            "Average Precision: 0.9976492691460377\n",
            "Average F1-Score: 0.9977384984588025\n"
          ]
        }
      ]
    },
    {
      "cell_type": "code",
      "source": [
        "data = [clf_acc, clf_pre, clf_rec, clf_f1]\n",
        "\n",
        "plt.boxplot(data,labels = ['Accuracy_DT','Recall_DT','Precision_DT','F1-measure'])\n",
        "plt.show()"
      ],
      "metadata": {
        "colab": {
          "base_uri": "https://localhost:8080/",
          "height": 430
        },
        "id": "ou992umsFRZc",
        "outputId": "509b35d0-d2b6-4590-d46e-c4cd2d8fb0ad"
      },
      "execution_count": 30,
      "outputs": [
        {
          "output_type": "display_data",
          "data": {
            "text/plain": [
              "<Figure size 640x480 with 1 Axes>"
            ],
            "image/png": "[encoded data removed]"
          },
          "metadata": {}
        }
      ]
    },
    {
      "cell_type": "markdown",
      "source": [
        "# GaussianNB"
      ],
      "metadata": {
        "id": "J8fIJuejekDn"
      }
    },
    {
      "cell_type": "code",
      "source": [
        "from sklearn.naive_bayes import GaussianNB\n",
        "# Create Decision Tree classifer object\n",
        "classifer3 = GaussianNB()\n",
        "\n",
        "# Train Decision Tree Classifer\n",
        "classifer3 = classifer3.fit(X_train,y_train)\n",
        "\n",
        "#Predict the response for test dataset\n",
        "y_pred = classifer3.predict(X_test)\n",
        "# printing accuracy\n",
        "print(\"Accuracy: \",accuracy_score(y_test,y_pred))\n",
        "# printing precision\n",
        "print(\"Precision: \",precision_score(y_test,y_pred, average = 'macro'))\n",
        "# printing recall\n",
        "print(\"Recall: \",recall_score(y_test,y_pred, average = 'macro'))\n",
        "# printing f1 score\n",
        "print(\"F1_score: \",f1_score(y_test,y_pred, average = 'macro'))"
      ],
      "metadata": {
        "colab": {
          "base_uri": "https://localhost:8080/"
        },
        "id": "qz5WMAGbZbE5",
        "outputId": "7b709c13-e006-4d51-c9d2-769806674326"
      },
      "execution_count": 31,
      "outputs": [
        {
          "output_type": "stream",
          "name": "stdout",
          "text": [
            "Accuracy:  0.9777899144365556\n",
            "Precision:  0.8433246317469606\n",
            "Recall:  0.820906105388864\n",
            "F1_score:  0.8304452414138136\n"
          ]
        }
      ]
    },
    {
      "cell_type": "code",
      "source": [
        "nb_acc = []\n",
        "nb_pre = []\n",
        "nb_rec = []\n",
        "nb_f1 = []\n",
        "for i in range(10):\n",
        "  X_train, X_test, y_train, y_test = train_test_split(X, y, test_size = 0.33, random_state = i)\n",
        "# Performing training\n",
        "  classifer3.fit(X_train, y_train)\n",
        "#Calculate predictions (y_pred) using X_test\n",
        "  y_pred = classifer3.predict(X_test)\n",
        "  #print(y_pred)\n",
        "# Display evaluation report\n",
        "  acc = accuracy_score(y_test,y_pred)\n",
        "  nb_acc.append(acc)\n",
        "  rec = recall_score(y_test,y_pred, average = 'macro')\n",
        "  nb_rec.append(rec)\n",
        "  pre =  precision_score(y_test,y_pred, average = 'macro')\n",
        "  nb_pre.append(pre)\n",
        "  f1 = f1_score(y_test,y_pred, average = 'macro')\n",
        "  nb_f1.append(f1)\n",
        "\n",
        "\n",
        "\n",
        "avg_acc = sum(nb_acc) / 10\n",
        "avg_rec = sum(nb_rec) / 10\n",
        "avg_pre = sum(nb_pre) / 10\n",
        "avg_f1 = sum(nb_f1) / 10\n",
        "\n",
        "print('Average Accuracy:', avg_acc)\n",
        "print('Average Recall:', avg_rec)\n",
        "print('Average Precision:', avg_pre)\n",
        "print('Average F1-Score:', avg_f1)\n",
        "report['NB'] = [avg_acc, avg_rec, avg_pre, avg_f1]"
      ],
      "metadata": {
        "colab": {
          "base_uri": "https://localhost:8080/"
        },
        "id": "xY5d5DX3e1W1",
        "outputId": "0caf9624-d525-47d8-9bec-7ab7881d192c"
      },
      "execution_count": 32,
      "outputs": [
        {
          "output_type": "stream",
          "name": "stdout",
          "text": [
            "Average Accuracy: 0.9761636021603254\n",
            "Average Recall: 0.8105546950479076\n",
            "Average Precision: 0.8320355599530078\n",
            "Average F1-Score: 0.8194299210071214\n"
          ]
        }
      ]
    },
    {
      "cell_type": "code",
      "source": [
        "data = [nb_acc, nb_pre, nb_rec, nb_f1]\n",
        "\n",
        "plt.boxplot(data,labels = ['Accuracy_NB','Recall_NB','Precision_NB','F1-measure'])\n",
        "plt.show()"
      ],
      "metadata": {
        "colab": {
          "base_uri": "https://localhost:8080/",
          "height": 430
        },
        "id": "RfSRWBU0FlQv",
        "outputId": "33e7f56f-0dea-4fcf-a01f-0464364ddfc6"
      },
      "execution_count": 33,
      "outputs": [
        {
          "output_type": "display_data",
          "data": {
            "text/plain": [
              "<Figure size 640x480 with 1 Axes>"
            ],
            "image/png": "[encoded data removed]"
          },
          "metadata": {}
        }
      ]
    },
    {
      "cell_type": "markdown",
      "source": [
        "# Visulalization"
      ],
      "metadata": {
        "id": "P6vAq95hBDh_"
      }
    },
    {
      "cell_type": "code",
      "source": [
        "knn_pref = {\"Knn Accuracy\": knn_acc, \"Knn Recall\": knn_rec, \"Knn Precision\": knn_pre, \"Knn F1-score\": knn_f1}\n",
        "Dt_pref = {\"DT Accuracy\": clf_acc, \"DT Recall\": clf_rec, \"DT Precision\": clf_pre, \"DT F1-score\": clf_f1}\n",
        "Nb_pref = {\"NB Accuracy\": nb_acc, \"NB Recall\": nb_rec, \"NB Precision\": nb_pre, \"NB F1-score\": nb_f1}"
      ],
      "metadata": {
        "id": "Yu8s5yagBHiH"
      },
      "execution_count": 34,
      "outputs": []
    },
    {
      "cell_type": "code",
      "source": [
        "df_knn = pd.DataFrame(knn_pref, columns=knn_pref.keys())\n",
        "df_Dt = pd.DataFrame(Dt_pref, columns=Dt_pref.keys())\n",
        "df_nb = pd.DataFrame(Nb_pref, columns=Nb_pref.keys())\n",
        "\n",
        "\n",
        "df_pref = pd.concat([df_knn, df_Dt, df_nb], axis=1)\n",
        "df_pref"
      ],
      "metadata": {
        "colab": {
          "base_uri": "https://localhost:8080/",
          "height": 363
        },
        "id": "ws1qsHhBDYmw",
        "outputId": "10138017-61cc-4e31-831e-d469d511ddd6"
      },
      "execution_count": 35,
      "outputs": [
        {
          "output_type": "execute_result",
          "data": {
            "text/plain": [
              "   Knn Accuracy  Knn Recall  Knn Precision  Knn F1-score  DT Accuracy  \\\n",
              "0      0.958068    0.770695       0.843750      0.802108     0.999454   \n",
              "1      0.956733    0.775499       0.842585      0.803927     0.999454   \n",
              "2      0.957279    0.767538       0.842707      0.798252     0.999515   \n",
              "3      0.954488    0.764930       0.840710      0.796056     0.999757   \n",
              "4      0.958371    0.781395       0.848958      0.809709     0.999939   \n",
              "5      0.956429    0.774280       0.835809      0.799641     0.999818   \n",
              "6      0.957279    0.766106       0.845068      0.798673     0.999515   \n",
              "7      0.955641    0.773119       0.820222      0.793089     0.999636   \n",
              "8      0.957522    0.782622       0.843731      0.807957     0.999575   \n",
              "9      0.957097    0.776327       0.839356      0.803089     0.999515   \n",
              "\n",
              "   DT Recall  DT Precision  DT F1-score  NB Accuracy  NB Recall  NB Precision  \\\n",
              "0   0.995777      0.998055     0.996910     0.975302   0.797134      0.818154   \n",
              "1   0.997583      0.995333     0.996441     0.975423   0.808035      0.833205   \n",
              "2   0.997140      0.997984     0.997557     0.974938   0.802306      0.824052   \n",
              "3   0.998538      0.998357     0.998447     0.974574   0.807381      0.828621   \n",
              "4   0.999869      0.999399     0.999633     0.976758   0.815975      0.832908   \n",
              "5   0.998607      0.999124     0.998865     0.976394   0.815381      0.836088   \n",
              "6   0.998145      0.996723     0.997430     0.976880   0.810428      0.838481   \n",
              "7   0.998699      0.996672     0.997678     0.977001   0.812332      0.830909   \n",
              "8   0.997613      0.997122     0.997367     0.976576   0.815668      0.834614   \n",
              "9   0.996396      0.997723     0.997055     0.977790   0.820906      0.843325   \n",
              "\n",
              "   NB F1-score  \n",
              "0     0.806354  \n",
              "1     0.818969  \n",
              "2     0.810493  \n",
              "3     0.816293  \n",
              "4     0.823367  \n",
              "5     0.822841  \n",
              "6     0.822718  \n",
              "7     0.819754  \n",
              "8     0.823064  \n",
              "9     0.830445  "
            ],
            "text/html": [
              "\n",
              "  <div id=\"df-e5d4a668-85d9-401f-9349-53456d1b92ab\" class=\"colab-df-container\">\n",
              "    <div>\n",
              "<style scoped>\n",
              "    .dataframe tbody tr th:only-of-type {\n",
              "        vertical-align: middle;\n",
              "    }\n",
              "\n",
              "    .dataframe tbody tr th {\n",
              "        vertical-align: top;\n",
              "    }\n",
              "\n",
              "    .dataframe thead th {\n",
              "        text-align: right;\n",
              "    }\n",
              "</style>\n",
              "<table border=\"1\" class=\"dataframe\">\n",
              "  <thead>\n",
              "    <tr style=\"text-align: right;\">\n",
              "      <th></th>\n",
              "      <th>Knn Accuracy</th>\n",
              "      <th>Knn Recall</th>\n",
              "      <th>Knn Precision</th>\n",
              "      <th>Knn F1-score</th>\n",
              "      <th>DT Accuracy</th>\n",
              "      <th>DT Recall</th>\n",
              "      <th>DT Precision</th>\n",
              "      <th>DT F1-score</th>\n",
              "      <th>NB Accuracy</th>\n",
              "      <th>NB Recall</th>\n",
              "      <th>NB Precision</th>\n",
              "      <th>NB F1-score</th>\n",
              "    </tr>\n",
              "  </thead>\n",
              "  <tbody>\n",
              "    <tr>\n",
              "      <th>0</th>\n",
              "      <td>0.958068</td>\n",
              "      <td>0.770695</td>\n",
              "      <td>0.843750</td>\n",
              "      <td>0.802108</td>\n",
              "      <td>0.999454</td>\n",
              "      <td>0.995777</td>\n",
              "      <td>0.998055</td>\n",
              "      <td>0.996910</td>\n",
              "      <td>0.975302</td>\n",
              "      <td>0.797134</td>\n",
              "      <td>0.818154</td>\n",
              "      <td>0.806354</td>\n",
              "    </tr>\n",
              "    <tr>\n",
              "      <th>1</th>\n",
              "      <td>0.956733</td>\n",
              "      <td>0.775499</td>\n",
              "      <td>0.842585</td>\n",
              "      <td>0.803927</td>\n",
              "      <td>0.999454</td>\n",
              "      <td>0.997583</td>\n",
              "      <td>0.995333</td>\n",
              "      <td>0.996441</td>\n",
              "      <td>0.975423</td>\n",
              "      <td>0.808035</td>\n",
              "      <td>0.833205</td>\n",
              "      <td>0.818969</td>\n",
              "    </tr>\n",
              "    <tr>\n",
              "      <th>2</th>\n",
              "      <td>0.957279</td>\n",
              "      <td>0.767538</td>\n",
              "      <td>0.842707</td>\n",
              "      <td>0.798252</td>\n",
              "      <td>0.999515</td>\n",
              "      <td>0.997140</td>\n",
              "      <td>0.997984</td>\n",
              "      <td>0.997557</td>\n",
              "      <td>0.974938</td>\n",
              "      <td>0.802306</td>\n",
              "      <td>0.824052</td>\n",
              "      <td>0.810493</td>\n",
              "    </tr>\n",
              "    <tr>\n",
              "      <th>3</th>\n",
              "      <td>0.954488</td>\n",
              "      <td>0.764930</td>\n",
              "      <td>0.840710</td>\n",
              "      <td>0.796056</td>\n",
              "      <td>0.999757</td>\n",
              "      <td>0.998538</td>\n",
              "      <td>0.998357</td>\n",
              "      <td>0.998447</td>\n",
              "      <td>0.974574</td>\n",
              "      <td>0.807381</td>\n",
              "      <td>0.828621</td>\n",
              "      <td>0.816293</td>\n",
              "    </tr>\n",
              "    <tr>\n",
              "      <th>4</th>\n",
              "      <td>0.958371</td>\n",
              "      <td>0.781395</td>\n",
              "      <td>0.848958</td>\n",
              "      <td>0.809709</td>\n",
              "      <td>0.999939</td>\n",
              "      <td>0.999869</td>\n",
              "      <td>0.999399</td>\n",
              "      <td>0.999633</td>\n",
              "      <td>0.976758</td>\n",
              "      <td>0.815975</td>\n",
              "      <td>0.832908</td>\n",
              "      <td>0.823367</td>\n",
              "    </tr>\n",
              "    <tr>\n",
              "      <th>5</th>\n",
              "      <td>0.956429</td>\n",
              "      <td>0.774280</td>\n",
              "      <td>0.835809</td>\n",
              "      <td>0.799641</td>\n",
              "      <td>0.999818</td>\n",
              "      <td>0.998607</td>\n",
              "      <td>0.999124</td>\n",
              "      <td>0.998865</td>\n",
              "      <td>0.976394</td>\n",
              "      <td>0.815381</td>\n",
              "      <td>0.836088</td>\n",
              "      <td>0.822841</td>\n",
              "    </tr>\n",
              "    <tr>\n",
              "      <th>6</th>\n",
              "      <td>0.957279</td>\n",
              "      <td>0.766106</td>\n",
              "      <td>0.845068</td>\n",
              "      <td>0.798673</td>\n",
              "      <td>0.999515</td>\n",
              "      <td>0.998145</td>\n",
              "      <td>0.996723</td>\n",
              "      <td>0.997430</td>\n",
              "      <td>0.976880</td>\n",
              "      <td>0.810428</td>\n",
              "      <td>0.838481</td>\n",
              "      <td>0.822718</td>\n",
              "    </tr>\n",
              "    <tr>\n",
              "      <th>7</th>\n",
              "      <td>0.955641</td>\n",
              "      <td>0.773119</td>\n",
              "      <td>0.820222</td>\n",
              "      <td>0.793089</td>\n",
              "      <td>0.999636</td>\n",
              "      <td>0.998699</td>\n",
              "      <td>0.996672</td>\n",
              "      <td>0.997678</td>\n",
              "      <td>0.977001</td>\n",
              "      <td>0.812332</td>\n",
              "      <td>0.830909</td>\n",
              "      <td>0.819754</td>\n",
              "    </tr>\n",
              "    <tr>\n",
              "      <th>8</th>\n",
              "      <td>0.957522</td>\n",
              "      <td>0.782622</td>\n",
              "      <td>0.843731</td>\n",
              "      <td>0.807957</td>\n",
              "      <td>0.999575</td>\n",
              "      <td>0.997613</td>\n",
              "      <td>0.997122</td>\n",
              "      <td>0.997367</td>\n",
              "      <td>0.976576</td>\n",
              "      <td>0.815668</td>\n",
              "      <td>0.834614</td>\n",
              "      <td>0.823064</td>\n",
              "    </tr>\n",
              "    <tr>\n",
              "      <th>9</th>\n",
              "      <td>0.957097</td>\n",
              "      <td>0.776327</td>\n",
              "      <td>0.839356</td>\n",
              "      <td>0.803089</td>\n",
              "      <td>0.999515</td>\n",
              "      <td>0.996396</td>\n",
              "      <td>0.997723</td>\n",
              "      <td>0.997055</td>\n",
              "      <td>0.977790</td>\n",
              "      <td>0.820906</td>\n",
              "      <td>0.843325</td>\n",
              "      <td>0.830445</td>\n",
              "    </tr>\n",
              "  </tbody>\n",
              "</table>\n",
              "</div>\n",
              "    <div class=\"colab-df-buttons\">\n",
              "\n",
              "  <div class=\"colab-df-container\">\n",
              "    <button class=\"colab-df-convert\" onclick=\"convertToInteractive('df-e5d4a668-85d9-401f-9349-53456d1b92ab')\"\n",
              "            title=\"Convert this dataframe to an interactive table.\"\n",
              "            style=\"display:none;\">\n",
              "\n",
              "  <svg xmlns=\"http://www.w3.org/2000/svg\" height=\"24px\" viewBox=\"0 -960 960 960\">\n",
              "    <path d=\"M120-120v-720h720v720H120Zm60-500h600v-160H180v160Zm220 220h160v-160H400v160Zm0 220h160v-160H400v160ZM180-400h160v-160H180v160Zm440 0h160v-160H620v160ZM180-180h160v-160H180v160Zm440 0h160v-160H620v160Z\"/>\n",
              "  </svg>\n",
              "    </button>\n",
              "\n",
              "  <style>\n",
              "    .colab-df-container {\n",
              "      display:flex;\n",
              "      gap: 12px;\n",
              "    }\n",
              "\n",
              "    .colab-df-convert {\n",
              "      background-color: #E8F0FE;\n",
              "      border: none;\n",
              "      border-radius: 50%;\n",
              "      cursor: pointer;\n",
              "      display: none;\n",
              "      fill: #1967D2;\n",
              "      height: 32px;\n",
              "      padding: 0 0 0 0;\n",
              "      width: 32px;\n",
              "    }\n",
              "\n",
              "    .colab-df-convert:hover {\n",
              "      background-color: #E2EBFA;\n",
              "      box-shadow: 0px 1px 2px rgba(60, 64, 67, 0.3), 0px 1px 3px 1px rgba(60, 64, 67, 0.15);\n",
              "      fill: #174EA6;\n",
              "    }\n",
              "\n",
              "    .colab-df-buttons div {\n",
              "      margin-bottom: 4px;\n",
              "    }\n",
              "\n",
              "    [theme=dark] .colab-df-convert {\n",
              "      background-color: #3B4455;\n",
              "      fill: #D2E3FC;\n",
              "    }\n",
              "\n",
              "    [theme=dark] .colab-df-convert:hover {\n",
              "      background-color: #434B5C;\n",
              "      box-shadow: 0px 1px 3px 1px rgba(0, 0, 0, 0.15);\n",
              "      filter: drop-shadow(0px 1px 2px rgba(0, 0, 0, 0.3));\n",
              "      fill: #FFFFFF;\n",
              "    }\n",
              "  </style>\n",
              "\n",
              "    <script>\n",
              "      const buttonEl =\n",
              "        document.querySelector('#df-e5d4a668-85d9-401f-9349-53456d1b92ab button.colab-df-convert');\n",
              "      buttonEl.style.display =\n",
              "        google.colab.kernel.accessAllowed ? 'block' : 'none';\n",
              "\n",
              "      async function convertToInteractive(key) {\n",
              "        const element = document.querySelector('#df-e5d4a668-85d9-401f-9349-53456d1b92ab');\n",
              "        const dataTable =\n",
              "          await google.colab.kernel.invokeFunction('convertToInteractive',\n",
              "                                                    [key], {});\n",
              "        if (!dataTable) return;\n",
              "\n",
              "        const docLinkHtml = 'Like what you see? Visit the ' +\n",
              "          '<a target=\"_blank\" href=https://colab.research.google.com/notebooks/data_table.ipynb>data table notebook</a>'\n",
              "          + ' to learn more about interactive tables.';\n",
              "        element.innerHTML = '';\n",
              "        dataTable['output_type'] = 'display_data';\n",
              "        await google.colab.output.renderOutput(dataTable, element);\n",
              "        const docLink = document.createElement('div');\n",
              "        docLink.innerHTML = docLinkHtml;\n",
              "        element.appendChild(docLink);\n",
              "      }\n",
              "    </script>\n",
              "  </div>\n",
              "\n",
              "\n",
              "<div id=\"df-9e860742-f9c7-4cf9-944f-f38fd6e02cdb\">\n",
              "  <button class=\"colab-df-quickchart\" onclick=\"quickchart('df-9e860742-f9c7-4cf9-944f-f38fd6e02cdb')\"\n",
              "            title=\"Suggest charts.\"\n",
              "            style=\"display:none;\">\n",
              "\n",
              "<svg xmlns=\"http://www.w3.org/2000/svg\" height=\"24px\"viewBox=\"0 0 24 24\"\n",
              "     width=\"24px\">\n",
              "    <g>\n",
              "        <path d=\"M19 3H5c-1.1 0-2 .9-2 2v14c0 1.1.9 2 2 2h14c1.1 0 2-.9 2-2V5c0-1.1-.9-2-2-2zM9 17H7v-7h2v7zm4 0h-2V7h2v10zm4 0h-2v-4h2v4z\"/>\n",
              "    </g>\n",
              "</svg>\n",
              "  </button>\n",
              "\n",
              "<style>\n",
              "  .colab-df-quickchart {\n",
              "      --bg-color: #E8F0FE;\n",
              "      --fill-color: #1967D2;\n",
              "      --hover-bg-color: #E2EBFA;\n",
              "      --hover-fill-color: #174EA6;\n",
              "      --disabled-fill-color: #AAA;\n",
              "      --disabled-bg-color: #DDD;\n",
              "  }\n",
              "\n",
              "  [theme=dark] .colab-df-quickchart {\n",
              "      --bg-color: #3B4455;\n",
              "      --fill-color: #D2E3FC;\n",
              "      --hover-bg-color: #434B5C;\n",
              "      --hover-fill-color: #FFFFFF;\n",
              "      --disabled-bg-color: #3B4455;\n",
              "      --disabled-fill-color: #666;\n",
              "  }\n",
              "\n",
              "  .colab-df-quickchart {\n",
              "    background-color: var(--bg-color);\n",
              "    border: none;\n",
              "    border-radius: 50%;\n",
              "    cursor: pointer;\n",
              "    display: none;\n",
              "    fill: var(--fill-color);\n",
              "    height: 32px;\n",
              "    padding: 0;\n",
              "    width: 32px;\n",
              "  }\n",
              "\n",
              "  .colab-df-quickchart:hover {\n",
              "    background-color: var(--hover-bg-color);\n",
              "    box-shadow: 0 1px 2px rgba(60, 64, 67, 0.3), 0 1px 3px 1px rgba(60, 64, 67, 0.15);\n",
              "    fill: var(--button-hover-fill-color);\n",
              "  }\n",
              "\n",
              "  .colab-df-quickchart-complete:disabled,\n",
              "  .colab-df-quickchart-complete:disabled:hover {\n",
              "    background-color: var(--disabled-bg-color);\n",
              "    fill: var(--disabled-fill-color);\n",
              "    box-shadow: none;\n",
              "  }\n",
              "\n",
              "  .colab-df-spinner {\n",
              "    border: 2px solid var(--fill-color);\n",
              "    border-color: transparent;\n",
              "    border-bottom-color: var(--fill-color);\n",
              "    animation:\n",
              "      spin 1s steps(1) infinite;\n",
              "  }\n",
              "\n",
              "  @keyframes spin {\n",
              "    0% {\n",
              "      border-color: transparent;\n",
              "      border-bottom-color: var(--fill-color);\n",
              "      border-left-color: var(--fill-color);\n",
              "    }\n",
              "    20% {\n",
              "      border-color: transparent;\n",
              "      border-left-color: var(--fill-color);\n",
              "      border-top-color: var(--fill-color);\n",
              "    }\n",
              "    30% {\n",
              "      border-color: transparent;\n",
              "      border-left-color: var(--fill-color);\n",
              "      border-top-color: var(--fill-color);\n",
              "      border-right-color: var(--fill-color);\n",
              "    }\n",
              "    40% {\n",
              "      border-color: transparent;\n",
              "      border-right-color: var(--fill-color);\n",
              "      border-top-color: var(--fill-color);\n",
              "    }\n",
              "    60% {\n",
              "      border-color: transparent;\n",
              "      border-right-color: var(--fill-color);\n",
              "    }\n",
              "    80% {\n",
              "      border-color: transparent;\n",
              "      border-right-color: var(--fill-color);\n",
              "      border-bottom-color: var(--fill-color);\n",
              "    }\n",
              "    90% {\n",
              "      border-color: transparent;\n",
              "      border-bottom-color: var(--fill-color);\n",
              "    }\n",
              "  }\n",
              "</style>\n",
              "\n",
              "  <script>\n",
              "    async function quickchart(key) {\n",
              "      const quickchartButtonEl =\n",
              "        document.querySelector('#' + key + ' button');\n",
              "      quickchartButtonEl.disabled = true;  // To prevent multiple clicks.\n",
              "      quickchartButtonEl.classList.add('colab-df-spinner');\n",
              "      try {\n",
              "        const charts = await google.colab.kernel.invokeFunction(\n",
              "            'suggestCharts', [key], {});\n",
              "      } catch (error) {\n",
              "        console.error('Error during call to suggestCharts:', error);\n",
              "      }\n",
              "      quickchartButtonEl.classList.remove('colab-df-spinner');\n",
              "      quickchartButtonEl.classList.add('colab-df-quickchart-complete');\n",
              "    }\n",
              "    (() => {\n",
              "      let quickchartButtonEl =\n",
              "        document.querySelector('#df-9e860742-f9c7-4cf9-944f-f38fd6e02cdb button');\n",
              "      quickchartButtonEl.style.display =\n",
              "        google.colab.kernel.accessAllowed ? 'block' : 'none';\n",
              "    })();\n",
              "  </script>\n",
              "</div>\n",
              "    </div>\n",
              "  </div>\n"
            ]
          },
          "metadata": {},
          "execution_count": 35
        }
      ]
    },
    {
      "cell_type": "code",
      "source": [
        "#plotting accuracy\n",
        "fig = plt.figure(figsize =(8,5))\n",
        "data = df_pref.loc[:, [\"Knn Accuracy\", \"DT Accuracy\", \"NB Accuracy\"]]\n",
        "# Creating plot\n",
        "data.boxplot()\n",
        "# show plot\n",
        "plt.show()"
      ],
      "metadata": {
        "colab": {
          "base_uri": "https://localhost:8080/",
          "height": 445
        },
        "id": "8CdxVlUADj6X",
        "outputId": "d2957628-6975-48cf-cb26-2ef1fb017441"
      },
      "execution_count": 36,
      "outputs": [
        {
          "output_type": "display_data",
          "data": {
            "text/plain": [
              "<Figure size 800x500 with 1 Axes>"
            ],
            "image/png": "[encoded data removed]"
          },
          "metadata": {}
        }
      ]
    },
    {
      "cell_type": "code",
      "source": [
        "#Plot Recall\n",
        "fig = plt.figure(figsize =(8,5))\n",
        "data = df_pref.loc[:, [\"Knn Recall\", \"DT Recall\", \"NB Recall\"]]\n",
        "# Creating plot\n",
        "data.boxplot()\n",
        "# show plot\n",
        "plt.show()"
      ],
      "metadata": {
        "colab": {
          "base_uri": "https://localhost:8080/",
          "height": 445
        },
        "id": "8yFwQiNcDsb7",
        "outputId": "f812007a-ab4c-49bf-bd70-6c8ac0607fbb"
      },
      "execution_count": 37,
      "outputs": [
        {
          "output_type": "display_data",
          "data": {
            "text/plain": [
              "<Figure size 800x500 with 1 Axes>"
            ],
            "image/png": "[encoded data removed]"
          },
          "metadata": {}
        }
      ]
    },
    {
      "cell_type": "code",
      "source": [
        "#Plot Precision\n",
        "fig = plt.figure(figsize =(8,5))\n",
        "data = df_pref.loc[:, [\"Knn Precision\", \"DT Precision\", \"NB Precision\"]]\n",
        "# Creating plot\n",
        "data.boxplot()\n",
        "# show plot\n",
        "plt.show()"
      ],
      "metadata": {
        "colab": {
          "base_uri": "https://localhost:8080/",
          "height": 445
        },
        "id": "BZqKGDF5Dy8H",
        "outputId": "795a8542-7e55-419b-fe8d-6363e00f0ba3"
      },
      "execution_count": 38,
      "outputs": [
        {
          "output_type": "display_data",
          "data": {
            "text/plain": [
              "<Figure size 800x500 with 1 Axes>"
            ],
            "image/png": "[encoded data removed]"
          },
          "metadata": {}
        }
      ]
    },
    {
      "cell_type": "code",
      "source": [
        "#Plot F1-score\n",
        "fig = plt.figure(figsize =(8,5))\n",
        "data = df_pref.loc[:, [\"Knn F1-score\", \"DT F1-score\", \"NB F1-score\"]]\n",
        "# Creating plot\n",
        "data.boxplot()\n",
        "# show plot\n",
        "plt.show()"
      ],
      "metadata": {
        "colab": {
          "base_uri": "https://localhost:8080/",
          "height": 445
        },
        "id": "ZR3dSGnSD18C",
        "outputId": "640b1570-580a-4d39-a048-dfac66d7089e"
      },
      "execution_count": 39,
      "outputs": [
        {
          "output_type": "display_data",
          "data": {
            "text/plain": [
              "<Figure size 800x500 with 1 Axes>"
            ],
            "image/png": "[encoded data removed]"
          },
          "metadata": {}
        }
      ]
    },
    {
      "cell_type": "code",
      "source": [
        "knn_pref = [sum(knn_acc)/len(knn_acc), sum(knn_rec)/len(knn_rec), sum(knn_pre)/len(knn_pre), sum(knn_f1)/len(knn_f1)]\n",
        "Dt_pref = [sum(clf_acc)/len(clf_acc), sum(clf_rec)/len(clf_rec), sum(clf_pre)/len(clf_pre), sum(clf_f1)/len(clf_f1)]\n",
        "Nb_pref = [sum(nb_acc)/len(nb_acc), sum(nb_rec)/len(nb_rec),sum(nb_pre)/len(nb_pre), sum(nb_f1)/len(nb_f1)]"
      ],
      "metadata": {
        "id": "kOleh6E5D7CO"
      },
      "execution_count": 40,
      "outputs": []
    },
    {
      "cell_type": "code",
      "source": [
        "df_pref = pd.DataFrame([knn_pref, Dt_pref, Nb_pref],\n",
        "                       columns = ['Accuracy', 'Recall', 'Precision', 'F1-score'],\n",
        "                       index=  ['KNN', 'DT', 'NB'])\n",
        "df_pref"
      ],
      "metadata": {
        "colab": {
          "base_uri": "https://localhost:8080/",
          "height": 143
        },
        "id": "hkSyMYyJEEpf",
        "outputId": "7bc98471-8fc8-4846-ab97-906912c1ac55"
      },
      "execution_count": 41,
      "outputs": [
        {
          "output_type": "execute_result",
          "data": {
            "text/plain": [
              "     Accuracy    Recall  Precision  F1-score\n",
              "KNN  0.956891  0.773251   0.840290  0.801250\n",
              "DT   0.999618  0.997837   0.997649  0.997738\n",
              "NB   0.976164  0.810555   0.832036  0.819430"
            ],
            "text/html": [
              "\n",
              "  <div id=\"df-11929d15-b55b-434e-9c12-e56bcb1558bc\" class=\"colab-df-container\">\n",
              "    <div>\n",
              "<style scoped>\n",
              "    .dataframe tbody tr th:only-of-type {\n",
              "        vertical-align: middle;\n",
              "    }\n",
              "\n",
              "    .dataframe tbody tr th {\n",
              "        vertical-align: top;\n",
              "    }\n",
              "\n",
              "    .dataframe thead th {\n",
              "        text-align: right;\n",
              "    }\n",
              "</style>\n",
              "<table border=\"1\" class=\"dataframe\">\n",
              "  <thead>\n",
              "    <tr style=\"text-align: right;\">\n",
              "      <th></th>\n",
              "      <th>Accuracy</th>\n",
              "      <th>Recall</th>\n",
              "      <th>Precision</th>\n",
              "      <th>F1-score</th>\n",
              "    </tr>\n",
              "  </thead>\n",
              "  <tbody>\n",
              "    <tr>\n",
              "      <th>KNN</th>\n",
              "      <td>0.956891</td>\n",
              "      <td>0.773251</td>\n",
              "      <td>0.840290</td>\n",
              "      <td>0.801250</td>\n",
              "    </tr>\n",
              "    <tr>\n",
              "      <th>DT</th>\n",
              "      <td>0.999618</td>\n",
              "      <td>0.997837</td>\n",
              "      <td>0.997649</td>\n",
              "      <td>0.997738</td>\n",
              "    </tr>\n",
              "    <tr>\n",
              "      <th>NB</th>\n",
              "      <td>0.976164</td>\n",
              "      <td>0.810555</td>\n",
              "      <td>0.832036</td>\n",
              "      <td>0.819430</td>\n",
              "    </tr>\n",
              "  </tbody>\n",
              "</table>\n",
              "</div>\n",
              "    <div class=\"colab-df-buttons\">\n",
              "\n",
              "  <div class=\"colab-df-container\">\n",
              "    <button class=\"colab-df-convert\" onclick=\"convertToInteractive('df-11929d15-b55b-434e-9c12-e56bcb1558bc')\"\n",
              "            title=\"Convert this dataframe to an interactive table.\"\n",
              "            style=\"display:none;\">\n",
              "\n",
              "  <svg xmlns=\"http://www.w3.org/2000/svg\" height=\"24px\" viewBox=\"0 -960 960 960\">\n",
              "    <path d=\"M120-120v-720h720v720H120Zm60-500h600v-160H180v160Zm220 220h160v-160H400v160Zm0 220h160v-160H400v160ZM180-400h160v-160H180v160Zm440 0h160v-160H620v160ZM180-180h160v-160H180v160Zm440 0h160v-160H620v160Z\"/>\n",
              "  </svg>\n",
              "    </button>\n",
              "\n",
              "  <style>\n",
              "    .colab-df-container {\n",
              "      display:flex;\n",
              "      gap: 12px;\n",
              "    }\n",
              "\n",
              "    .colab-df-convert {\n",
              "      background-color: #E8F0FE;\n",
              "      border: none;\n",
              "      border-radius: 50%;\n",
              "      cursor: pointer;\n",
              "      display: none;\n",
              "      fill: #1967D2;\n",
              "      height: 32px;\n",
              "      padding: 0 0 0 0;\n",
              "      width: 32px;\n",
              "    }\n",
              "\n",
              "    .colab-df-convert:hover {\n",
              "      background-color: #E2EBFA;\n",
              "      box-shadow: 0px 1px 2px rgba(60, 64, 67, 0.3), 0px 1px 3px 1px rgba(60, 64, 67, 0.15);\n",
              "      fill: #174EA6;\n",
              "    }\n",
              "\n",
              "    .colab-df-buttons div {\n",
              "      margin-bottom: 4px;\n",
              "    }\n",
              "\n",
              "    [theme=dark] .colab-df-convert {\n",
              "      background-color: #3B4455;\n",
              "      fill: #D2E3FC;\n",
              "    }\n",
              "\n",
              "    [theme=dark] .colab-df-convert:hover {\n",
              "      background-color: #434B5C;\n",
              "      box-shadow: 0px 1px 3px 1px rgba(0, 0, 0, 0.15);\n",
              "      filter: drop-shadow(0px 1px 2px rgba(0, 0, 0, 0.3));\n",
              "      fill: #FFFFFF;\n",
              "    }\n",
              "  </style>\n",
              "\n",
              "    <script>\n",
              "      const buttonEl =\n",
              "        document.querySelector('#df-11929d15-b55b-434e-9c12-e56bcb1558bc button.colab-df-convert');\n",
              "      buttonEl.style.display =\n",
              "        google.colab.kernel.accessAllowed ? 'block' : 'none';\n",
              "\n",
              "      async function convertToInteractive(key) {\n",
              "        const element = document.querySelector('#df-11929d15-b55b-434e-9c12-e56bcb1558bc');\n",
              "        const dataTable =\n",
              "          await google.colab.kernel.invokeFunction('convertToInteractive',\n",
              "                                                    [key], {});\n",
              "        if (!dataTable) return;\n",
              "\n",
              "        const docLinkHtml = 'Like what you see? Visit the ' +\n",
              "          '<a target=\"_blank\" href=https://colab.research.google.com/notebooks/data_table.ipynb>data table notebook</a>'\n",
              "          + ' to learn more about interactive tables.';\n",
              "        element.innerHTML = '';\n",
              "        dataTable['output_type'] = 'display_data';\n",
              "        await google.colab.output.renderOutput(dataTable, element);\n",
              "        const docLink = document.createElement('div');\n",
              "        docLink.innerHTML = docLinkHtml;\n",
              "        element.appendChild(docLink);\n",
              "      }\n",
              "    </script>\n",
              "  </div>\n",
              "\n",
              "\n",
              "<div id=\"df-4656d621-3e8d-4e6b-b8c4-3913a18aca79\">\n",
              "  <button class=\"colab-df-quickchart\" onclick=\"quickchart('df-4656d621-3e8d-4e6b-b8c4-3913a18aca79')\"\n",
              "            title=\"Suggest charts.\"\n",
              "            style=\"display:none;\">\n",
              "\n",
              "<svg xmlns=\"http://www.w3.org/2000/svg\" height=\"24px\"viewBox=\"0 0 24 24\"\n",
              "     width=\"24px\">\n",
              "    <g>\n",
              "        <path d=\"M19 3H5c-1.1 0-2 .9-2 2v14c0 1.1.9 2 2 2h14c1.1 0 2-.9 2-2V5c0-1.1-.9-2-2-2zM9 17H7v-7h2v7zm4 0h-2V7h2v10zm4 0h-2v-4h2v4z\"/>\n",
              "    </g>\n",
              "</svg>\n",
              "  </button>\n",
              "\n",
              "<style>\n",
              "  .colab-df-quickchart {\n",
              "      --bg-color: #E8F0FE;\n",
              "      --fill-color: #1967D2;\n",
              "      --hover-bg-color: #E2EBFA;\n",
              "      --hover-fill-color: #174EA6;\n",
              "      --disabled-fill-color: #AAA;\n",
              "      --disabled-bg-color: #DDD;\n",
              "  }\n",
              "\n",
              "  [theme=dark] .colab-df-quickchart {\n",
              "      --bg-color: #3B4455;\n",
              "      --fill-color: #D2E3FC;\n",
              "      --hover-bg-color: #434B5C;\n",
              "      --hover-fill-color: #FFFFFF;\n",
              "      --disabled-bg-color: #3B4455;\n",
              "      --disabled-fill-color: #666;\n",
              "  }\n",
              "\n",
              "  .colab-df-quickchart {\n",
              "    background-color: var(--bg-color);\n",
              "    border: none;\n",
              "    border-radius: 50%;\n",
              "    cursor: pointer;\n",
              "    display: none;\n",
              "    fill: var(--fill-color);\n",
              "    height: 32px;\n",
              "    padding: 0;\n",
              "    width: 32px;\n",
              "  }\n",
              "\n",
              "  .colab-df-quickchart:hover {\n",
              "    background-color: var(--hover-bg-color);\n",
              "    box-shadow: 0 1px 2px rgba(60, 64, 67, 0.3), 0 1px 3px 1px rgba(60, 64, 67, 0.15);\n",
              "    fill: var(--button-hover-fill-color);\n",
              "  }\n",
              "\n",
              "  .colab-df-quickchart-complete:disabled,\n",
              "  .colab-df-quickchart-complete:disabled:hover {\n",
              "    background-color: var(--disabled-bg-color);\n",
              "    fill: var(--disabled-fill-color);\n",
              "    box-shadow: none;\n",
              "  }\n",
              "\n",
              "  .colab-df-spinner {\n",
              "    border: 2px solid var(--fill-color);\n",
              "    border-color: transparent;\n",
              "    border-bottom-color: var(--fill-color);\n",
              "    animation:\n",
              "      spin 1s steps(1) infinite;\n",
              "  }\n",
              "\n",
              "  @keyframes spin {\n",
              "    0% {\n",
              "      border-color: transparent;\n",
              "      border-bottom-color: var(--fill-color);\n",
              "      border-left-color: var(--fill-color);\n",
              "    }\n",
              "    20% {\n",
              "      border-color: transparent;\n",
              "      border-left-color: var(--fill-color);\n",
              "      border-top-color: var(--fill-color);\n",
              "    }\n",
              "    30% {\n",
              "      border-color: transparent;\n",
              "      border-left-color: var(--fill-color);\n",
              "      border-top-color: var(--fill-color);\n",
              "      border-right-color: var(--fill-color);\n",
              "    }\n",
              "    40% {\n",
              "      border-color: transparent;\n",
              "      border-right-color: var(--fill-color);\n",
              "      border-top-color: var(--fill-color);\n",
              "    }\n",
              "    60% {\n",
              "      border-color: transparent;\n",
              "      border-right-color: var(--fill-color);\n",
              "    }\n",
              "    80% {\n",
              "      border-color: transparent;\n",
              "      border-right-color: var(--fill-color);\n",
              "      border-bottom-color: var(--fill-color);\n",
              "    }\n",
              "    90% {\n",
              "      border-color: transparent;\n",
              "      border-bottom-color: var(--fill-color);\n",
              "    }\n",
              "  }\n",
              "</style>\n",
              "\n",
              "  <script>\n",
              "    async function quickchart(key) {\n",
              "      const quickchartButtonEl =\n",
              "        document.querySelector('#' + key + ' button');\n",
              "      quickchartButtonEl.disabled = true;  // To prevent multiple clicks.\n",
              "      quickchartButtonEl.classList.add('colab-df-spinner');\n",
              "      try {\n",
              "        const charts = await google.colab.kernel.invokeFunction(\n",
              "            'suggestCharts', [key], {});\n",
              "      } catch (error) {\n",
              "        console.error('Error during call to suggestCharts:', error);\n",
              "      }\n",
              "      quickchartButtonEl.classList.remove('colab-df-spinner');\n",
              "      quickchartButtonEl.classList.add('colab-df-quickchart-complete');\n",
              "    }\n",
              "    (() => {\n",
              "      let quickchartButtonEl =\n",
              "        document.querySelector('#df-4656d621-3e8d-4e6b-b8c4-3913a18aca79 button');\n",
              "      quickchartButtonEl.style.display =\n",
              "        google.colab.kernel.accessAllowed ? 'block' : 'none';\n",
              "    })();\n",
              "  </script>\n",
              "</div>\n",
              "    </div>\n",
              "  </div>\n"
            ]
          },
          "metadata": {},
          "execution_count": 41
        }
      ]
    },
    {
      "cell_type": "code",
      "source": [
        "accuarcy = df_pref['Accuracy']\n",
        "recall = df_pref['Recall']\n",
        "precision = df_pref['Precision']\n",
        "f1_score = df_pref['F1-score']"
      ],
      "metadata": {
        "id": "5WPsCFgaEKRm"
      },
      "execution_count": 42,
      "outputs": []
    },
    {
      "cell_type": "code",
      "source": [
        "import numpy as np\n",
        "x = np.arange(len(df_pref))\n",
        "fig=plt.figure(figsize=(8,5))\n",
        "\n",
        "plt.bar(x + 0.1, accuarcy, color='pink', width = 0.15, label='Accuarcy')\n",
        "plt.bar(x + 0.4, recall, color='purple', width = 0.15, label='Precision')\n",
        "plt.bar(x + 0.25, precision, color='red', width = 0.15, label='Recall')\n",
        "plt.bar(x + 0.55, f1_score, color='yellow', width = 0.15, label='F1-score')\n",
        "plt.xticks(x+0.25,  ['KNN', 'DT', 'NB'])\n",
        "plt.legend(bbox_to_anchor=(1, 1))\n",
        "\n",
        "plt.legend(['Accuracy', 'Recall', 'Precision', 'F1_Score'])"
      ],
      "metadata": {
        "colab": {
          "base_uri": "https://localhost:8080/",
          "height": 463
        },
        "id": "bVqjPY41EUVk",
        "outputId": "823e3fb9-6a9e-4d0a-b072-e3d89f30bec8"
      },
      "execution_count": 43,
      "outputs": [
        {
          "output_type": "execute_result",
          "data": {
            "text/plain": [
              "<matplotlib.legend.Legend at 0x7ffb68adcfa0>"
            ]
          },
          "metadata": {},
          "execution_count": 43
        },
        {
          "output_type": "display_data",
          "data": {
            "text/plain": [
              "<Figure size 800x500 with 1 Axes>"
            ],
            "image/png": "[encoded data removed]"
          },
          "metadata": {}
        }
      ]
    },
    {
      "cell_type": "code",
      "source": [
        "df_pref2 = df_pref.T\n",
        "df_pref2"
      ],
      "metadata": {
        "colab": {
          "base_uri": "https://localhost:8080/",
          "height": 175
        },
        "id": "0V3ou5UwE85X",
        "outputId": "09f37ebe-fc97-4bed-b2c4-92bb2ddcfddb"
      },
      "execution_count": 44,
      "outputs": [
        {
          "output_type": "execute_result",
          "data": {
            "text/plain": [
              "                KNN        DT        NB\n",
              "Accuracy   0.956891  0.999618  0.976164\n",
              "Recall     0.773251  0.997837  0.810555\n",
              "Precision  0.840290  0.997649  0.832036\n",
              "F1-score   0.801250  0.997738  0.819430"
            ],
            "text/html": [
              "\n",
              "  <div id=\"df-68d4df8d-d573-467c-9174-b188308937a8\" class=\"colab-df-container\">\n",
              "    <div>\n",
              "<style scoped>\n",
              "    .dataframe tbody tr th:only-of-type {\n",
              "        vertical-align: middle;\n",
              "    }\n",
              "\n",
              "    .dataframe tbody tr th {\n",
              "        vertical-align: top;\n",
              "    }\n",
              "\n",
              "    .dataframe thead th {\n",
              "        text-align: right;\n",
              "    }\n",
              "</style>\n",
              "<table border=\"1\" class=\"dataframe\">\n",
              "  <thead>\n",
              "    <tr style=\"text-align: right;\">\n",
              "      <th></th>\n",
              "      <th>KNN</th>\n",
              "      <th>DT</th>\n",
              "      <th>NB</th>\n",
              "    </tr>\n",
              "  </thead>\n",
              "  <tbody>\n",
              "    <tr>\n",
              "      <th>Accuracy</th>\n",
              "      <td>0.956891</td>\n",
              "      <td>0.999618</td>\n",
              "      <td>0.976164</td>\n",
              "    </tr>\n",
              "    <tr>\n",
              "      <th>Recall</th>\n",
              "      <td>0.773251</td>\n",
              "      <td>0.997837</td>\n",
              "      <td>0.810555</td>\n",
              "    </tr>\n",
              "    <tr>\n",
              "      <th>Precision</th>\n",
              "      <td>0.840290</td>\n",
              "      <td>0.997649</td>\n",
              "      <td>0.832036</td>\n",
              "    </tr>\n",
              "    <tr>\n",
              "      <th>F1-score</th>\n",
              "      <td>0.801250</td>\n",
              "      <td>0.997738</td>\n",
              "      <td>0.819430</td>\n",
              "    </tr>\n",
              "  </tbody>\n",
              "</table>\n",
              "</div>\n",
              "    <div class=\"colab-df-buttons\">\n",
              "\n",
              "  <div class=\"colab-df-container\">\n",
              "    <button class=\"colab-df-convert\" onclick=\"convertToInteractive('df-68d4df8d-d573-467c-9174-b188308937a8')\"\n",
              "            title=\"Convert this dataframe to an interactive table.\"\n",
              "            style=\"display:none;\">\n",
              "\n",
              "  <svg xmlns=\"http://www.w3.org/2000/svg\" height=\"24px\" viewBox=\"0 -960 960 960\">\n",
              "    <path d=\"M120-120v-720h720v720H120Zm60-500h600v-160H180v160Zm220 220h160v-160H400v160Zm0 220h160v-160H400v160ZM180-400h160v-160H180v160Zm440 0h160v-160H620v160ZM180-180h160v-160H180v160Zm440 0h160v-160H620v160Z\"/>\n",
              "  </svg>\n",
              "    </button>\n",
              "\n",
              "  <style>\n",
              "    .colab-df-container {\n",
              "      display:flex;\n",
              "      gap: 12px;\n",
              "    }\n",
              "\n",
              "    .colab-df-convert {\n",
              "      background-color: #E8F0FE;\n",
              "      border: none;\n",
              "      border-radius: 50%;\n",
              "      cursor: pointer;\n",
              "      display: none;\n",
              "      fill: #1967D2;\n",
              "      height: 32px;\n",
              "      padding: 0 0 0 0;\n",
              "      width: 32px;\n",
              "    }\n",
              "\n",
              "    .colab-df-convert:hover {\n",
              "      background-color: #E2EBFA;\n",
              "      box-shadow: 0px 1px 2px rgba(60, 64, 67, 0.3), 0px 1px 3px 1px rgba(60, 64, 67, 0.15);\n",
              "      fill: #174EA6;\n",
              "    }\n",
              "\n",
              "    .colab-df-buttons div {\n",
              "      margin-bottom: 4px;\n",
              "    }\n",
              "\n",
              "    [theme=dark] .colab-df-convert {\n",
              "      background-color: #3B4455;\n",
              "      fill: #D2E3FC;\n",
              "    }\n",
              "\n",
              "    [theme=dark] .colab-df-convert:hover {\n",
              "      background-color: #434B5C;\n",
              "      box-shadow: 0px 1px 3px 1px rgba(0, 0, 0, 0.15);\n",
              "      filter: drop-shadow(0px 1px 2px rgba(0, 0, 0, 0.3));\n",
              "      fill: #FFFFFF;\n",
              "    }\n",
              "  </style>\n",
              "\n",
              "    <script>\n",
              "      const buttonEl =\n",
              "        document.querySelector('#df-68d4df8d-d573-467c-9174-b188308937a8 button.colab-df-convert');\n",
              "      buttonEl.style.display =\n",
              "        google.colab.kernel.accessAllowed ? 'block' : 'none';\n",
              "\n",
              "      async function convertToInteractive(key) {\n",
              "        const element = document.querySelector('#df-68d4df8d-d573-467c-9174-b188308937a8');\n",
              "        const dataTable =\n",
              "          await google.colab.kernel.invokeFunction('convertToInteractive',\n",
              "                                                    [key], {});\n",
              "        if (!dataTable) return;\n",
              "\n",
              "        const docLinkHtml = 'Like what you see? Visit the ' +\n",
              "          '<a target=\"_blank\" href=https://colab.research.google.com/notebooks/data_table.ipynb>data table notebook</a>'\n",
              "          + ' to learn more about interactive tables.';\n",
              "        element.innerHTML = '';\n",
              "        dataTable['output_type'] = 'display_data';\n",
              "        await google.colab.output.renderOutput(dataTable, element);\n",
              "        const docLink = document.createElement('div');\n",
              "        docLink.innerHTML = docLinkHtml;\n",
              "        element.appendChild(docLink);\n",
              "      }\n",
              "    </script>\n",
              "  </div>\n",
              "\n",
              "\n",
              "<div id=\"df-e98b7954-51da-4c38-b2fc-51f8513816a5\">\n",
              "  <button class=\"colab-df-quickchart\" onclick=\"quickchart('df-e98b7954-51da-4c38-b2fc-51f8513816a5')\"\n",
              "            title=\"Suggest charts.\"\n",
              "            style=\"display:none;\">\n",
              "\n",
              "<svg xmlns=\"http://www.w3.org/2000/svg\" height=\"24px\"viewBox=\"0 0 24 24\"\n",
              "     width=\"24px\">\n",
              "    <g>\n",
              "        <path d=\"M19 3H5c-1.1 0-2 .9-2 2v14c0 1.1.9 2 2 2h14c1.1 0 2-.9 2-2V5c0-1.1-.9-2-2-2zM9 17H7v-7h2v7zm4 0h-2V7h2v10zm4 0h-2v-4h2v4z\"/>\n",
              "    </g>\n",
              "</svg>\n",
              "  </button>\n",
              "\n",
              "<style>\n",
              "  .colab-df-quickchart {\n",
              "      --bg-color: #E8F0FE;\n",
              "      --fill-color: #1967D2;\n",
              "      --hover-bg-color: #E2EBFA;\n",
              "      --hover-fill-color: #174EA6;\n",
              "      --disabled-fill-color: #AAA;\n",
              "      --disabled-bg-color: #DDD;\n",
              "  }\n",
              "\n",
              "  [theme=dark] .colab-df-quickchart {\n",
              "      --bg-color: #3B4455;\n",
              "      --fill-color: #D2E3FC;\n",
              "      --hover-bg-color: #434B5C;\n",
              "      --hover-fill-color: #FFFFFF;\n",
              "      --disabled-bg-color: #3B4455;\n",
              "      --disabled-fill-color: #666;\n",
              "  }\n",
              "\n",
              "  .colab-df-quickchart {\n",
              "    background-color: var(--bg-color);\n",
              "    border: none;\n",
              "    border-radius: 50%;\n",
              "    cursor: pointer;\n",
              "    display: none;\n",
              "    fill: var(--fill-color);\n",
              "    height: 32px;\n",
              "    padding: 0;\n",
              "    width: 32px;\n",
              "  }\n",
              "\n",
              "  .colab-df-quickchart:hover {\n",
              "    background-color: var(--hover-bg-color);\n",
              "    box-shadow: 0 1px 2px rgba(60, 64, 67, 0.3), 0 1px 3px 1px rgba(60, 64, 67, 0.15);\n",
              "    fill: var(--button-hover-fill-color);\n",
              "  }\n",
              "\n",
              "  .colab-df-quickchart-complete:disabled,\n",
              "  .colab-df-quickchart-complete:disabled:hover {\n",
              "    background-color: var(--disabled-bg-color);\n",
              "    fill: var(--disabled-fill-color);\n",
              "    box-shadow: none;\n",
              "  }\n",
              "\n",
              "  .colab-df-spinner {\n",
              "    border: 2px solid var(--fill-color);\n",
              "    border-color: transparent;\n",
              "    border-bottom-color: var(--fill-color);\n",
              "    animation:\n",
              "      spin 1s steps(1) infinite;\n",
              "  }\n",
              "\n",
              "  @keyframes spin {\n",
              "    0% {\n",
              "      border-color: transparent;\n",
              "      border-bottom-color: var(--fill-color);\n",
              "      border-left-color: var(--fill-color);\n",
              "    }\n",
              "    20% {\n",
              "      border-color: transparent;\n",
              "      border-left-color: var(--fill-color);\n",
              "      border-top-color: var(--fill-color);\n",
              "    }\n",
              "    30% {\n",
              "      border-color: transparent;\n",
              "      border-left-color: var(--fill-color);\n",
              "      border-top-color: var(--fill-color);\n",
              "      border-right-color: var(--fill-color);\n",
              "    }\n",
              "    40% {\n",
              "      border-color: transparent;\n",
              "      border-right-color: var(--fill-color);\n",
              "      border-top-color: var(--fill-color);\n",
              "    }\n",
              "    60% {\n",
              "      border-color: transparent;\n",
              "      border-right-color: var(--fill-color);\n",
              "    }\n",
              "    80% {\n",
              "      border-color: transparent;\n",
              "      border-right-color: var(--fill-color);\n",
              "      border-bottom-color: var(--fill-color);\n",
              "    }\n",
              "    90% {\n",
              "      border-color: transparent;\n",
              "      border-bottom-color: var(--fill-color);\n",
              "    }\n",
              "  }\n",
              "</style>\n",
              "\n",
              "  <script>\n",
              "    async function quickchart(key) {\n",
              "      const quickchartButtonEl =\n",
              "        document.querySelector('#' + key + ' button');\n",
              "      quickchartButtonEl.disabled = true;  // To prevent multiple clicks.\n",
              "      quickchartButtonEl.classList.add('colab-df-spinner');\n",
              "      try {\n",
              "        const charts = await google.colab.kernel.invokeFunction(\n",
              "            'suggestCharts', [key], {});\n",
              "      } catch (error) {\n",
              "        console.error('Error during call to suggestCharts:', error);\n",
              "      }\n",
              "      quickchartButtonEl.classList.remove('colab-df-spinner');\n",
              "      quickchartButtonEl.classList.add('colab-df-quickchart-complete');\n",
              "    }\n",
              "    (() => {\n",
              "      let quickchartButtonEl =\n",
              "        document.querySelector('#df-e98b7954-51da-4c38-b2fc-51f8513816a5 button');\n",
              "      quickchartButtonEl.style.display =\n",
              "        google.colab.kernel.accessAllowed ? 'block' : 'none';\n",
              "    })();\n",
              "  </script>\n",
              "</div>\n",
              "    </div>\n",
              "  </div>\n"
            ]
          },
          "metadata": {},
          "execution_count": 44
        }
      ]
    },
    {
      "cell_type": "code",
      "source": [
        "measure = ['Accuracy', 'Recall', 'Precision', 'F1']\n",
        "\n",
        "knn = list(df_pref2['KNN'])\n",
        "knn.append(knn[0])\n",
        "\n",
        "dt = list(df_pref2['DT'])\n",
        "dt.append(dt[0])\n",
        "\n",
        "nb = list(df_pref2['NB'])\n",
        "nb.append(nb[0])\n",
        "\n",
        "\n",
        "angles= np.linspace(0,2*np.pi,len(measure), endpoint=False)\n",
        "angles= np.concatenate((angles,[angles[0]]))\n",
        "measure.append(measure[0])\n",
        "fig=plt.figure(figsize=(5,10))\n",
        "ax=fig.add_subplot(polar=True)\n",
        "\n",
        "#KNN\n",
        "ax.plot(angles, knn, 'o--', color='r', label='KNN')\n",
        "\n",
        "#DT\n",
        "ax.plot(angles, dt, 'o--', color='b', label='DT')\n",
        "\n",
        "#NB\n",
        "ax.plot(angles, nb, 'o-', color='orange', label='NB')\n",
        "\n",
        "ax.set_thetagrids(angles * 180/np.pi, measure)\n",
        "plt.grid(True)\n",
        "plt.tight_layout()\n",
        "plt.legend()\n",
        "plt.show()"
      ],
      "metadata": {
        "colab": {
          "base_uri": "https://localhost:8080/",
          "height": 458
        },
        "id": "PyCiA6IjFAr0",
        "outputId": "2a9519fa-1ce4-4b23-ce09-88fbc6e78500"
      },
      "execution_count": 63,
      "outputs": [
        {
          "output_type": "display_data",
          "data": {
            "text/plain": [
              "<Figure size 500x1000 with 1 Axes>"
            ],
            "image/png": "[encoded data removed]"
          },
          "metadata": {}
        }
      ]
    }
  ]
}
